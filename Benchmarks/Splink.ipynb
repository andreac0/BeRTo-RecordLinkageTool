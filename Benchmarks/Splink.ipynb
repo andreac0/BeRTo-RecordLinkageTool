{
 "cells": [
  {
   "cell_type": "markdown",
   "id": "0e4dd5fc-7894-4453-b810-eec1c29d8f0b",
   "metadata": {},
   "source": [
    "# Splink"
   ]
  },
  {
   "cell_type": "code",
   "execution_count": 1,
   "id": "0eea466d-5c70-4ad5-b296-fbad5dd0c6db",
   "metadata": {},
   "outputs": [
    {
     "name": "stderr",
     "output_type": "stream",
     "text": [
      "Warning: Ignoring non-Spark config property: parquet.enable.dictionary\n",
      "24/02/11 18:28:28 WARN Utils: Your hostname, genex resolves to a loopback address: 127.0.1.1; using 192.168.4.13 instead (on interface eth2)\n",
      "24/02/11 18:28:28 WARN Utils: Set SPARK_LOCAL_IP if you need to bind to another address\n",
      "24/02/11 18:28:28 WARN NativeCodeLoader: Unable to load native-hadoop library for your platform... using builtin-java classes where applicable\n",
      "Setting default log level to \"WARN\".\n",
      "To adjust logging level use sc.setLogLevel(newLevel). For SparkR, use setLogLevel(newLevel).\n",
      "24/02/11 18:28:30 WARN Utils: Service 'SparkUI' could not bind on port 4040. Attempting port 4041.\n"
     ]
    }
   ],
   "source": [
    "from splink.spark.jar_location import similarity_jar_location\n",
    "from pyspark import SparkContext, SparkConf\n",
    "from pyspark.sql import SparkSession\n",
    "from pyspark.sql import types\n",
    "from pyspark.sql.functions import regexp_replace, trim, col, upper\n",
    "\n",
    "import pyspark.sql.functions as sf\n",
    "\n",
    "# conf = SparkConf()\n",
    "# This parallelism setting is only suitable for a small toy example\n",
    "# conf.set(\"spark.default.parallelism\", \"16\")\n",
    "# conf.set(\"spark.sql.shuffle.partitions\", \"50\")\n",
    "\n",
    "# Add custom similarity functions, which are bundled with Splink\n",
    "# documented here: https://github.com/moj-analytical-services/splink_scalaudfs\n",
    "path = similarity_jar_location()\n",
    "# conf.set(\"spark.jars\", path)\n",
    "\n",
    "configuration_cluster = (\n",
    "    SparkConf()\n",
    "    .set(\"spark.executor.cores\", \"4\")\n",
    "    .set(\"spark.dynamicAllocation.maxExecutors\", \"20\")\n",
    "    .set(\"spark.executor.memory\", \"20g\")\n",
    "    .set(\"spark.driver.memory\", \"16g\")\n",
    "    .set(\"spark.driver.maxResultSize\", \"8g\")\n",
    "    .set(\"spark.sql.shuffle.partitions\", \"200\")\n",
    "    .set(\"spark.kryoserializer.buffer.max\", \"1g\")\n",
    "    .set(\"spark.dynamicAllocation.enabled\", \"true\")\n",
    "    .set(\"spark.network.timeout\", \"180000\")\n",
    "    .set(\"spark.sql.execution.arrow.pyspark.enabled\", \"true\")\n",
    "    .set(\"parquet.enable.dictionary\",\"false\")\n",
    "    .set(\"spark.jars\", path)\n",
    ")\n",
    "\n",
    "#Create SparkSession\n",
    "spark = (\n",
    "    SparkSession.builder.appName(\"matchingSplink\")\n",
    "    .config(conf=configuration_cluster)\n",
    "    .getOrCreate()\n",
    ")\n",
    "\n",
    "# spark = SparkSession(sc)\n",
    "spark.sparkContext.setCheckpointDir(\"./tmp_checkpoints\")"
   ]
  },
  {
   "cell_type": "code",
   "execution_count": 4,
   "id": "a1cb31ea-b999-4e1f-b862-cf42363e39b0",
   "metadata": {},
   "outputs": [],
   "source": [
    "import time\n",
    "start = time.time()"
   ]
  },
  {
   "cell_type": "code",
   "execution_count": 2,
   "id": "f42227a1-d9d0-4fb0-a72e-4e33a65699be",
   "metadata": {},
   "outputs": [
    {
     "name": "stderr",
     "output_type": "stream",
     "text": [
      "                                                                                \r"
     ]
    }
   ],
   "source": [
    "dataset1 = spark.read.parquet(\"/home/colombo/BusinessRegistryTool/Data/mfi/parquet/\")\\\n",
    "                         .select(col(\"code\").alias(\"unique_id\"), \"name\", \"country\", \"address\", \"post\", \"city\")#.filter(col('country') == 'CZ')\n",
    "# dataset1.cache()\n",
    "# dataset1.count()\n",
    "dataset2 = spark.read.parquet(\"/home/colombo/BusinessRegistryTool/Data/gleif/parquet\")\\\n",
    "                         .select(col(\"LEI\").alias(\"unique_id\"), col(\"`Entity.LegalName`\").alias(\"name\"), col(\"`Entity.LegalAddress.Country`\").alias(\"country\"),\\\n",
    "                                 col(\"`Entity.LegalAddress.FirstAddressLine`\").alias(\"address\"), col(\"`Entity.LegalAddress.PostalCode`\").alias(\"post\"), \\\n",
    "                                col(\"`Entity.LegalAddress.City`\").alias(\"city\"))#.filter(col('country') == 'CZ')\n",
    "# dataset2.cache()\n",
    "# dataset2.count()"
   ]
  },
  {
   "cell_type": "code",
   "execution_count": 74,
   "id": "6d5b554d-af20-48ea-952e-d2de39c8a3ee",
   "metadata": {},
   "outputs": [],
   "source": [
    "import splink.spark.comparison_library as cl\n",
    "import splink.spark.comparison_template_library as ctl\n",
    "from splink.spark.blocking_rule_library import block_on\n",
    "\n",
    "settings = {\n",
    "    \"link_type\": \"link_only\",\n",
    "    \"comparisons\": [\n",
    "        # cl.exact_match(\"name\"),\n",
    "        cl.levenshtein_at_thresholds(\"name\", 3),\n",
    "        cl.levenshtein_at_thresholds(\"address\",4),\n",
    "        # cl.exact_match(\"city\", term_frequency_adjustments=True),\n",
    "        # ctl.postcode_comparison(\"post\"),\n",
    "        cl.exact_match(\"country\"),\n",
    "    ],\n",
    "    \"blocking_rules_to_generate_predictions\": [\n",
    "        # block_on(\"city\")\n",
    "        # block_on(\"country\")\n",
    "        # block_on([\"name\"]),\n",
    "        \"\"\"(levenshtein(r.name,l.name) < 5) and r.country = l.country\"\"\"\n",
    "    ],\n",
    "    \n",
    "    # \"blocking_rules_to_generate_predictions\": [\n",
    "    #     block_on([\"country\"])\n",
    "    # ],\n",
    "    \"em_convergence\": 0.01\n",
    "}"
   ]
  },
  {
   "cell_type": "code",
   "execution_count": 75,
   "id": "bf9d8a58-8e9b-401a-935a-1931219d83ef",
   "metadata": {},
   "outputs": [
    {
     "name": "stderr",
     "output_type": "stream",
     "text": [
      "24/02/11 18:40:26 WARN SimpleFunctionRegistry: The function jaro_sim replaced a previously registered function.\n",
      "24/02/11 18:40:26 WARN SimpleFunctionRegistry: The function jaro_winkler replaced a previously registered function.\n",
      "24/02/11 18:40:26 WARN SimpleFunctionRegistry: The function jaccard replaced a previously registered function.\n",
      "24/02/11 18:40:26 WARN SimpleFunctionRegistry: The function cosine_distance replaced a previously registered function.\n",
      "24/02/11 18:40:26 WARN SimpleFunctionRegistry: The function dmetaphone replaced a previously registered function.\n",
      "24/02/11 18:40:26 WARN SimpleFunctionRegistry: The function dmetaphonealt replaced a previously registered function.\n",
      "24/02/11 18:40:26 WARN SimpleFunctionRegistry: The function qgramtokeniser replaced a previously registered function.\n",
      "24/02/11 18:40:26 WARN SimpleFunctionRegistry: The function damerau_levenshtein replaced a previously registered function.\n"
     ]
    }
   ],
   "source": [
    "from splink.spark.linker import SparkLinker\n",
    "linker = SparkLinker(\n",
    "    [dataset1, dataset2],\n",
    "    settings,\n",
    "    spark=spark,\n",
    "    input_table_aliases=[\"l\", \"r\"],\n",
    "    break_lineage_method=\"parquet\")"
   ]
  },
  {
   "cell_type": "code",
   "execution_count": 7,
   "id": "17cbaf02-3b4e-4d4b-8254-90c8f6d51ddf",
   "metadata": {},
   "outputs": [],
   "source": [
    "# df_predict = linker.deterministic_link()"
   ]
  },
  {
   "cell_type": "code",
   "execution_count": 76,
   "id": "38932fa1-2b62-489c-a7fb-30fe730f50d9",
   "metadata": {},
   "outputs": [
    {
     "name": "stderr",
     "output_type": "stream",
     "text": [
      "----- Estimating u probabilities using random sampling -----\n",
      "24/02/11 18:40:29 WARN DataSource: All paths were ignored:\n",
      "  file:/home/colombo/BusinessRegistryTool/Competitors/tmp_checkpoints/8f37de12-5448-467a-a391-94ebc7cea79e/__splink__df_concat_with_tf_814e6636e\n",
      "\n",
      "Estimated u probabilities using random sampling\n",
      "\n",
      "Your model is not yet fully trained. Missing estimates for:\n",
      "    - name (no m values are trained).\n",
      "    - address (no m values are trained).\n",
      "    - country (no m values are trained).\n"
     ]
    }
   ],
   "source": [
    "linker.estimate_u_using_random_sampling(max_pairs=5e5)"
   ]
  },
  {
   "cell_type": "code",
   "execution_count": 77,
   "id": "5e2c9797-9d1c-47fa-86aa-4b879c76d3cc",
   "metadata": {},
   "outputs": [
    {
     "name": "stderr",
     "output_type": "stream",
     "text": [
      "\n",
      "----- Starting EM training session -----\n",
      "\n",
      "Estimating the m probabilities of the model by blocking on:\n",
      "(LEVENSHTEIN(l.`name`, l.`name`) < 5) AND l.`country` = l.`country` = (LEVENSHTEIN(r.`name`, r.`name`) < 5) AND r.`country` = r.`country`\n",
      "\n",
      "Parameter estimates will be made for the following comparison(s):\n",
      "    - address\n",
      "\n",
      "Parameter estimates cannot be made for the following comparison(s) since they are used in the blocking rules: \n",
      "    - name\n",
      "    - country\n",
      "24/02/11 18:43:05 WARN DataSource: All paths were ignored:                      \n",
      "  file:/home/colombo/BusinessRegistryTool/Competitors/tmp_checkpoints/8f37de12-5448-467a-a391-94ebc7cea79e/__splink__df_comparison_vectors_3cba64258\n",
      "                                                                                \n",
      "Iteration 1: Largest change in params was 0.964 in the m_probability of address, level `All other comparisons`\n",
      "Iteration 2: Largest change in params was 0.00437 in the m_probability of address, level `All other comparisons`\n",
      "\n",
      "EM converged after 2 iterations\n",
      "\n",
      "Your model is not yet fully trained. Missing estimates for:\n",
      "    - name (no m values are trained).\n",
      "    - country (no m values are trained).\n"
     ]
    },
    {
     "data": {
      "text/plain": [
       "<EMTrainingSession, blocking on (LEVENSHTEIN(l.`name`, l.`name`) < 5) AND l.`country` = l.`country` = (LEVENSHTEIN(r.`name`, r.`name`) < 5) AND r.`country` = r.`country`, deactivating comparisons name, country>"
      ]
     },
     "execution_count": 77,
     "metadata": {},
     "output_type": "execute_result"
    }
   ],
   "source": [
    "# linker.estimate_parameters_using_expectation_maximisation(block_on(\"country\"))\n",
    "linker.estimate_parameters_using_expectation_maximisation(block_on(\"(levenshtein(r.name,l.name) < 5) and r.country = l.country\"))\n",
    "# linker.estimate_parameters_using_expectation_maximisation(block_on(\"name\"))"
   ]
  },
  {
   "cell_type": "code",
   "execution_count": 78,
   "id": "5d588d46-4c2d-4307-9a8e-b9373fc14335",
   "metadata": {},
   "outputs": [
    {
     "name": "stderr",
     "output_type": "stream",
     "text": [
      "24/02/11 18:44:11 WARN DataSource: All paths were ignored:                      \n",
      "  file:/home/colombo/BusinessRegistryTool/Competitors/tmp_checkpoints/8f37de12-5448-467a-a391-94ebc7cea79e/__splink__df_predict_fcd80fcc6\n",
      "\n",
      " -- WARNING --\n",
      "You have called predict(), but there are some parameter estimates which have neither been estimated or specified in your settings dictionary.  To produce predictions the following untrained trained parameters will use default values.\n",
      "Comparison: 'name':\n",
      "    m values not fully trained\n",
      "Comparison: 'country':\n",
      "    m values not fully trained\n",
      "The 'probability_two_random_records_match' setting has been set to the default value (0.0001). \n",
      "If this is not the desired behaviour, either: \n",
      " - assign a value for `probability_two_random_records_match` in your settings dictionary, or \n",
      " - estimate with the `linker.estimate_probability_two_random_records_match` function.\n"
     ]
    }
   ],
   "source": [
    "results = linker.predict(threshold_match_probability=0.8)"
   ]
  },
  {
   "cell_type": "code",
   "execution_count": 22,
   "id": "99388458-3b6d-4305-83ce-5dc2b7ffb95f",
   "metadata": {},
   "outputs": [
    {
     "name": "stdout",
     "output_type": "stream",
     "text": [
      "292.5962550640106\n"
     ]
    }
   ],
   "source": [
    "print(time.time()-start)"
   ]
  },
  {
   "cell_type": "code",
   "execution_count": 81,
   "id": "464b54df-6ea5-4120-91e3-30ff2a9066da",
   "metadata": {},
   "outputs": [],
   "source": [
    "df = results.as_pandas_dataframe()"
   ]
  },
  {
   "cell_type": "code",
   "execution_count": 19,
   "id": "e9608cb8-01d1-4816-a0cd-780abbaa6778",
   "metadata": {},
   "outputs": [],
   "source": [
    "df = results.as_record_dict()"
   ]
  },
  {
   "cell_type": "code",
   "execution_count": 20,
   "id": "82be0382-b51e-4d0f-93b4-36c2a7413267",
   "metadata": {},
   "outputs": [],
   "source": [
    "import pandas as pd\n",
    "df = pd.DataFrame(df)"
   ]
  },
  {
   "cell_type": "code",
   "execution_count": 21,
   "id": "a95a595d-e6db-48f3-b9c8-c6e3ac1a0808",
   "metadata": {},
   "outputs": [
    {
     "data": {
      "text/html": [
       "<div>\n",
       "<style scoped>\n",
       "    .dataframe tbody tr th:only-of-type {\n",
       "        vertical-align: middle;\n",
       "    }\n",
       "\n",
       "    .dataframe tbody tr th {\n",
       "        vertical-align: top;\n",
       "    }\n",
       "\n",
       "    .dataframe thead th {\n",
       "        text-align: right;\n",
       "    }\n",
       "</style>\n",
       "<table border=\"1\" class=\"dataframe\">\n",
       "  <thead>\n",
       "    <tr style=\"text-align: right;\">\n",
       "      <th></th>\n",
       "    </tr>\n",
       "  </thead>\n",
       "  <tbody>\n",
       "  </tbody>\n",
       "</table>\n",
       "</div>"
      ],
      "text/plain": [
       "Empty DataFrame\n",
       "Columns: []\n",
       "Index: []"
      ]
     },
     "execution_count": 21,
     "metadata": {},
     "output_type": "execute_result"
    }
   ],
   "source": [
    "df-"
   ]
  },
  {
   "cell_type": "code",
   "execution_count": null,
   "id": "76514eb9-3e05-431a-9dbb-8ae6f3a72060",
   "metadata": {},
   "outputs": [],
   "source": [
    "# results.as_pandas_dataframe().to_csv('/home/colombo/BusinessRegistryTool/Data/results/splink_block_name.csv', index = False)"
   ]
  },
  {
   "cell_type": "code",
   "execution_count": 12,
   "id": "24493cca-9243-4e51-b9d2-62f25f567b92",
   "metadata": {},
   "outputs": [],
   "source": [
    "end = time.time()"
   ]
  },
  {
   "cell_type": "code",
   "execution_count": 82,
   "id": "a640a80f-c5e7-4f8d-8764-9cc57ca87bee",
   "metadata": {},
   "outputs": [],
   "source": [
    "spark.catalog.clearCache()\n",
    "spark.stop()"
   ]
  },
  {
   "cell_type": "code",
   "execution_count": null,
   "id": "cd62da0e-7148-48e8-b181-f376ad9e4fac",
   "metadata": {},
   "outputs": [],
   "source": []
  }
 ],
 "metadata": {
  "kernelspec": {
   "display_name": "Python 3 (ipykernel)",
   "language": "python",
   "name": "python3"
  },
  "language_info": {
   "codemirror_mode": {
    "name": "ipython",
    "version": 3
   },
   "file_extension": ".py",
   "mimetype": "text/x-python",
   "name": "python",
   "nbconvert_exporter": "python",
   "pygments_lexer": "ipython3",
   "version": "3.10.13"
  }
 },
 "nbformat": 4,
 "nbformat_minor": 5
}
