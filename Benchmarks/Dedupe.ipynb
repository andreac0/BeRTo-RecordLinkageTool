{
 "cells": [
  {
   "cell_type": "code",
   "execution_count": 4,
   "id": "8a7b05b7-0b2b-4273-8d96-f4486a95ab07",
   "metadata": {},
   "outputs": [],
   "source": [
    "import os\n",
    "import csv\n",
    "import re\n",
    "import logging\n",
    "import optparse\n",
    "\n",
    "import dedupe\n",
    "from unidecode import unidecode\n",
    "import pandas as pd"
   ]
  },
  {
   "cell_type": "markdown",
   "id": "6c1ffcb9-6d1d-451b-8381-25579d0d4453",
   "metadata": {},
   "source": [
    "# Run Dedupe"
   ]
  },
  {
   "cell_type": "code",
   "execution_count": 5,
   "id": "cb2af9de-c7df-4708-8b8b-0b6633505316",
   "metadata": {},
   "outputs": [],
   "source": [
    "def preProcess(column):\n",
    "#\n",
    "    column = unidecode(column)\n",
    "    column = re.sub('\\n', ' ', column)\n",
    "    column = re.sub('-', '', column)\n",
    "    column = re.sub('/', ' ', column)\n",
    "    column = re.sub(\"'\", '', column)\n",
    "    column = re.sub(\",\", '', column)\n",
    "    column = re.sub(\":\", ' ', column)\n",
    "    column = re.sub('  +', ' ', column)\n",
    "    column = column.strip().strip('\"').strip(\"'\").lower().strip()\n",
    "    if not column:\n",
    "        column = None\n",
    "    return column\n",
    "\n",
    "def readData(filename):\n",
    "#\n",
    "    data_d = {}\n",
    "\n",
    "    with open(filename) as f:\n",
    "        reader = csv.DictReader(f)\n",
    "        for i, row in enumerate(reader):\n",
    "            clean_row = dict([(k, preProcess(v)) for (k, v) in row.items()])\n",
    "            data_d[filename + str(i)] = dict(clean_row)\n",
    "\n",
    "    return data_d\n",
    "\n",
    "def descriptions():\n",
    "    for dataset in (data_1, data_2):\n",
    "        for record in dataset.values():\n",
    "            yield record['description']"
   ]
  },
  {
   "cell_type": "code",
   "execution_count": 6,
   "id": "4327bd5d-c984-4c33-a10c-c2d031466280",
   "metadata": {},
   "outputs": [
    {
     "name": "stdout",
     "output_type": "stream",
     "text": [
      "importing data ...\n"
     ]
    }
   ],
   "source": [
    "import time\n",
    "start = time.time()\n",
    "left_file = '/home/colombo/BusinessRegistryTool/Data/mfi/mfi_essential.csv'\n",
    "right_file = '/home/colombo/BusinessRegistryTool/Data/gleif/gleif_essential.csv'\n",
    "print('importing data ...')\n",
    "data_1 = readData(left_file)\n",
    "data_2 = readData(right_file)"
   ]
  },
  {
   "cell_type": "markdown",
   "id": "70bdfd74-0aec-4c0f-8845-f5da62cc68ac",
   "metadata": {},
   "source": [
    "### Depude Precision"
   ]
  },
  {
   "cell_type": "code",
   "execution_count": 7,
   "id": "3740d2cf-7a5f-4d43-8e75-dd4bcc600746",
   "metadata": {},
   "outputs": [],
   "source": [
    "output_file = '/home/colombo/BusinessRegistryTool/Competitors/DedupeExp/precision/data_matching_output.csv'\n",
    "settings_file = '/home/colombo/BusinessRegistryTool/Competitors/DedupeExp/precision/data_matching_learned_settings'\n",
    "training_file = '/home/colombo/BusinessRegistryTool/Competitors/DedupeExp/precision/data_matching_training.json'"
   ]
  },
  {
   "cell_type": "code",
   "execution_count": 8,
   "id": "4bd5b58b-1ae4-4c09-9bd1-39798da84c0e",
   "metadata": {},
   "outputs": [
    {
     "name": "stdout",
     "output_type": "stream",
     "text": [
      "reading from /home/colombo/BusinessRegistryTool/Competitors/DedupeExp/precision/data_matching_learned_settings\n"
     ]
    }
   ],
   "source": [
    "if os.path.exists(settings_file):\n",
    "    print('reading from', settings_file)\n",
    "    with open(settings_file, 'rb') as sf:\n",
    "        linker = dedupe.StaticRecordLink(sf)\n",
    "else:\n",
    "    fields = [\n",
    "        {'field': 'name', 'type': 'String'},\n",
    "        {'field': 'address', 'type': 'String'},\n",
    "        {'field': 'country', 'type': 'String'},\n",
    "        {'field': 'post', 'type': 'String'},\n",
    "        {'field': 'city', 'type': 'String'}]\n",
    "    linker = dedupe.RecordLink(fields)\n",
    "\n",
    "    if os.path.exists(training_file):\n",
    "        print('reading labeled examples from ', training_file)\n",
    "        with open(training_file) as tf:\n",
    "            linker.prepare_training(data_1,\n",
    "                                    data_2,\n",
    "                                    training_file=tf,\n",
    "                                    sample_size=15000)\n",
    "    else:\n",
    "        linker.prepare_training(data_1, data_2, sample_size=15000)\n",
    "    end = time.time()\n",
    "    print('starting active labeling...')\n",
    "\n",
    "    dedupe.console_label(linker)\n",
    "\n",
    "    linker.train()\n",
    "    with open(training_file, 'w') as tf:\n",
    "        linker.write_training(tf)\n",
    "    with open(settings_file, 'wb') as sf:\n",
    "        linker.write_settings(sf)"
   ]
  },
  {
   "cell_type": "code",
   "execution_count": 9,
   "id": "0662f076-998c-45ba-8d2e-f1372cab411a",
   "metadata": {},
   "outputs": [
    {
     "name": "stdout",
     "output_type": "stream",
     "text": [
      "clustering...\n",
      "# duplicate sets 82259\n"
     ]
    }
   ],
   "source": [
    "start2 = time.time()\n",
    "print('clustering...')\n",
    "linked_records = linker.join(data_1, data_2, 0.0) \n",
    "\n",
    "print('# duplicate sets', len(linked_records))\n",
    "\n",
    "cluster_membership = {}\n",
    "for cluster_id, (cluster, score) in enumerate(linked_records):\n",
    "    for record_id in cluster:\n",
    "        cluster_membership[record_id] = {'Cluster ID': cluster_id,\n",
    "                                         'Link Score': score}\n",
    "\n",
    "with open(output_file, 'w') as f:\n",
    "\n",
    "    header_unwritten = True\n",
    "\n",
    "    for fileno, filename in enumerate((left_file, right_file)):\n",
    "        with open(filename) as f_input:\n",
    "            reader = csv.DictReader(f_input)\n",
    "\n",
    "            if header_unwritten:\n",
    "\n",
    "                fieldnames = (['Cluster ID', 'Link Score', 'source file'] +\n",
    "                              reader.fieldnames)\n",
    "\n",
    "                writer = csv.DictWriter(f, fieldnames=fieldnames)\n",
    "                writer.writeheader()\n",
    "\n",
    "                header_unwritten = False\n",
    "\n",
    "            for row_id, row in enumerate(reader):\n",
    "\n",
    "                record_id = filename + str(row_id)\n",
    "                cluster_details = cluster_membership.get(record_id, {})\n",
    "                row['source file'] = fileno\n",
    "                row.update(cluster_details)\n",
    "\n",
    "                writer.writerow(row)\n",
    "\n",
    "end2 = time.time()"
   ]
  },
  {
   "cell_type": "code",
   "execution_count": 10,
   "id": "55c7071c-9a2b-4146-b004-8cddf3898b6d",
   "metadata": {},
   "outputs": [
    {
     "data": {
      "text/plain": [
       "1564.4845969676971"
      ]
     },
     "execution_count": 10,
     "metadata": {},
     "output_type": "execute_result"
    }
   ],
   "source": [
    "end2-start2"
   ]
  },
  {
   "cell_type": "markdown",
   "id": "e46b7050-d29e-44c8-b8b2-d291d90167e7",
   "metadata": {
    "jp-MarkdownHeadingCollapsed": true
   },
   "source": [
    "### Dedupe Recall"
   ]
  },
  {
   "cell_type": "code",
   "execution_count": 6,
   "id": "0eb67164-0f45-4a90-8de0-fecc788a427a",
   "metadata": {},
   "outputs": [],
   "source": [
    "output_file = '/home/colombo/BusinessRegistryTool/Competitors/DedupeExp/recall/data_matching_output.csv'\n",
    "settings_file = '/home/colombo/BusinessRegistryTool/Competitors/DedupeExp/recall/data_matching_learned_settings'\n",
    "training_file = '/home/colombo/BusinessRegistryTool/Competitors/DedupeExp/recall/data_matching_training.json'"
   ]
  },
  {
   "cell_type": "code",
   "execution_count": 10,
   "id": "c46ad8a8-e96b-44f8-b172-c0fdaacb8f73",
   "metadata": {},
   "outputs": [
    {
     "name": "stderr",
     "output_type": "stream",
     "text": [
      "name : None\n",
      "country : ie\n",
      "\n",
      "name : syquant icav\n",
      "country : ie\n",
      "\n",
      "0/10 positive, 0/10 negative\n",
      "Do these records refer to the same thing?\n",
      "(y)es / (n)o / (u)nsure / (f)inished\n"
     ]
    },
    {
     "name": "stdout",
     "output_type": "stream",
     "text": [
      "starting active labeling...\n"
     ]
    },
    {
     "name": "stdin",
     "output_type": "stream",
     "text": [
      " n\n"
     ]
    },
    {
     "name": "stderr",
     "output_type": "stream",
     "text": [
      "name : None\n",
      "country : ie\n",
      "\n",
      "name : syquant icav\n",
      "country : ie\n",
      "\n",
      "0/10 positive, 1/10 negative\n",
      "Do these records refer to the same thing?\n",
      "(y)es / (n)o / (u)nsure / (f)inished / (p)revious\n"
     ]
    },
    {
     "name": "stdin",
     "output_type": "stream",
     "text": [
      " n\n"
     ]
    },
    {
     "name": "stderr",
     "output_type": "stream",
     "text": [
      "name : None\n",
      "country : ie\n",
      "\n",
      "name : nrcpd properties limited\n",
      "country : ie\n",
      "\n",
      "0/10 positive, 2/10 negative\n",
      "Do these records refer to the same thing?\n",
      "(y)es / (n)o / (u)nsure / (f)inished / (p)revious\n"
     ]
    },
    {
     "name": "stdin",
     "output_type": "stream",
     "text": [
      " n\n"
     ]
    },
    {
     "name": "stderr",
     "output_type": "stream",
     "text": [
      "name : csm diversifie\n",
      "country : fr\n",
      "\n",
      "name : holding forest\n",
      "country : fr\n",
      "\n",
      "0/10 positive, 3/10 negative\n",
      "Do these records refer to the same thing?\n",
      "(y)es / (n)o / (u)nsure / (f)inished / (p)revious\n"
     ]
    },
    {
     "name": "stdin",
     "output_type": "stream",
     "text": [
      " n\n"
     ]
    },
    {
     "name": "stderr",
     "output_type": "stream",
     "text": [
      "name : warburg rw 1 fonds\n",
      "country : de\n",
      "\n",
      "name : arvos holding gmbh\n",
      "country : de\n",
      "\n",
      "0/10 positive, 4/10 negative\n",
      "Do these records refer to the same thing?\n",
      "(y)es / (n)o / (u)nsure / (f)inished / (p)revious\n"
     ]
    },
    {
     "name": "stdin",
     "output_type": "stream",
     "text": [
      " n\n"
     ]
    },
    {
     "name": "stderr",
     "output_type": "stream",
     "text": [
      "name : None\n",
      "country : ie\n",
      "\n",
      "name : payoma ireland limited\n",
      "country : ie\n",
      "\n",
      "0/10 positive, 5/10 negative\n",
      "Do these records refer to the same thing?\n",
      "(y)es / (n)o / (u)nsure / (f)inished / (p)revious\n"
     ]
    },
    {
     "name": "stdin",
     "output_type": "stream",
     "text": [
      " n\n"
     ]
    },
    {
     "name": "stderr",
     "output_type": "stream",
     "text": [
      "name : None\n",
      "country : ie\n",
      "\n",
      "name : dara rock unlimited company\n",
      "country : ie\n",
      "\n",
      "0/10 positive, 6/10 negative\n",
      "Do these records refer to the same thing?\n",
      "(y)es / (n)o / (u)nsure / (f)inished / (p)revious\n"
     ]
    },
    {
     "name": "stdin",
     "output_type": "stream",
     "text": [
      " n\n"
     ]
    },
    {
     "name": "stderr",
     "output_type": "stream",
     "text": [
      "name : irp auto obligations 1\n",
      "country : fr\n",
      "\n",
      "name : irp auto obligations 1\n",
      "country : fr\n",
      "\n",
      "0/10 positive, 7/10 negative\n",
      "Do these records refer to the same thing?\n",
      "(y)es / (n)o / (u)nsure / (f)inished / (p)revious\n"
     ]
    },
    {
     "name": "stdin",
     "output_type": "stream",
     "text": [
      " y\n"
     ]
    },
    {
     "name": "stderr",
     "output_type": "stream",
     "text": [
      "name : actis long life infrastructure 2 a scsp\n",
      "country : lu\n",
      "\n",
      "name : actis long life infrastructure 2 a scsp\n",
      "country : lu\n",
      "\n",
      "1/10 positive, 7/10 negative\n",
      "Do these records refer to the same thing?\n",
      "(y)es / (n)o / (u)nsure / (f)inished / (p)revious\n"
     ]
    },
    {
     "name": "stdin",
     "output_type": "stream",
     "text": [
      " y\n"
     ]
    },
    {
     "name": "stderr",
     "output_type": "stream",
     "text": [
      "name : allianz ppk 2045\n",
      "country : pl\n",
      "\n",
      "name : allianz ppk 2045\n",
      "country : pl\n",
      "\n",
      "2/10 positive, 7/10 negative\n",
      "Do these records refer to the same thing?\n",
      "(y)es / (n)o / (u)nsure / (f)inished / (p)revious\n"
     ]
    },
    {
     "name": "stdin",
     "output_type": "stream",
     "text": [
      " y\n"
     ]
    },
    {
     "name": "stderr",
     "output_type": "stream",
     "text": [
      "name : None\n",
      "country : ie\n",
      "\n",
      "name : sanlam universal funds plc sanlam african frontier markets fund\n",
      "country : ie\n",
      "\n",
      "3/10 positive, 7/10 negative\n",
      "Do these records refer to the same thing?\n",
      "(y)es / (n)o / (u)nsure / (f)inished / (p)revious\n"
     ]
    },
    {
     "name": "stdin",
     "output_type": "stream",
     "text": [
      " n\n"
     ]
    },
    {
     "name": "stderr",
     "output_type": "stream",
     "text": [
      "name : None\n",
      "country : ie\n",
      "\n",
      "name : ct responsible china ashares equity fund\n",
      "country : ie\n",
      "\n",
      "3/10 positive, 8/10 negative\n",
      "Do these records refer to the same thing?\n",
      "(y)es / (n)o / (u)nsure / (f)inished / (p)revious\n"
     ]
    },
    {
     "name": "stdin",
     "output_type": "stream",
     "text": [
      " n\n"
     ]
    },
    {
     "name": "stderr",
     "output_type": "stream",
     "text": [
      "name : None\n",
      "country : ie\n",
      "\n",
      "name : ge capital european treasury services ireland unlimited company\n",
      "country : ie\n",
      "\n",
      "3/10 positive, 9/10 negative\n",
      "Do these records refer to the same thing?\n",
      "(y)es / (n)o / (u)nsure / (f)inished / (p)revious\n"
     ]
    },
    {
     "name": "stdin",
     "output_type": "stream",
     "text": [
      " \n"
     ]
    },
    {
     "name": "stderr",
     "output_type": "stream",
     "text": [
      "(y)es / (n)o / (u)nsure / (f)inished / (p)revious\n"
     ]
    },
    {
     "name": "stdin",
     "output_type": "stream",
     "text": [
      " n\n"
     ]
    },
    {
     "name": "stderr",
     "output_type": "stream",
     "text": [
      "name : None\n",
      "country : ie\n",
      "\n",
      "name : overdrivex limited\n",
      "country : ie\n",
      "\n",
      "3/10 positive, 10/10 negative\n",
      "Do these records refer to the same thing?\n",
      "(y)es / (n)o / (u)nsure / (f)inished / (p)revious\n"
     ]
    },
    {
     "name": "stdin",
     "output_type": "stream",
     "text": [
      " n\n"
     ]
    },
    {
     "name": "stderr",
     "output_type": "stream",
     "text": [
      "name : None\n",
      "country : ie\n",
      "\n",
      "name : impax listed infrastructure fund\n",
      "country : ie\n",
      "\n",
      "3/10 positive, 11/10 negative\n",
      "Do these records refer to the same thing?\n",
      "(y)es / (n)o / (u)nsure / (f)inished / (p)revious\n"
     ]
    },
    {
     "name": "stdin",
     "output_type": "stream",
     "text": [
      " n\n"
     ]
    },
    {
     "name": "stderr",
     "output_type": "stream",
     "text": [
      "name : None\n",
      "country : ie\n",
      "\n",
      "name : ldi solutions plus icav ldi solutions plus nominal funds 20262030\n",
      "country : ie\n",
      "\n",
      "3/10 positive, 12/10 negative\n",
      "Do these records refer to the same thing?\n",
      "(y)es / (n)o / (u)nsure / (f)inished / (p)revious\n"
     ]
    },
    {
     "name": "stdin",
     "output_type": "stream",
     "text": [
      " n\n"
     ]
    },
    {
     "name": "stderr",
     "output_type": "stream",
     "text": [
      "name : None\n",
      "country : ie\n",
      "\n",
      "name : darren lynch executive pension scheme\n",
      "country : ie\n",
      "\n",
      "3/10 positive, 13/10 negative\n",
      "Do these records refer to the same thing?\n",
      "(y)es / (n)o / (u)nsure / (f)inished / (p)revious\n"
     ]
    },
    {
     "name": "stdin",
     "output_type": "stream",
     "text": [
      " n\n"
     ]
    },
    {
     "name": "stderr",
     "output_type": "stream",
     "text": [
      "name : None\n",
      "country : ie\n",
      "\n",
      "name : keerajac limited\n",
      "country : ie\n",
      "\n",
      "3/10 positive, 14/10 negative\n",
      "Do these records refer to the same thing?\n",
      "(y)es / (n)o / (u)nsure / (f)inished / (p)revious\n"
     ]
    },
    {
     "name": "stdin",
     "output_type": "stream",
     "text": [
      " n\n"
     ]
    },
    {
     "name": "stderr",
     "output_type": "stream",
     "text": [
      "name : None\n",
      "country : ie\n",
      "\n",
      "name : impax listed infrastructure fund\n",
      "country : ie\n",
      "\n",
      "3/10 positive, 15/10 negative\n",
      "Do these records refer to the same thing?\n",
      "(y)es / (n)o / (u)nsure / (f)inished / (p)revious\n"
     ]
    },
    {
     "name": "stdin",
     "output_type": "stream",
     "text": [
      " n\n"
     ]
    },
    {
     "name": "stderr",
     "output_type": "stream",
     "text": [
      "name : None\n",
      "country : ie\n",
      "\n",
      "name : alphas managed accounts platform lxxxiii limited clark fixed income total return segregated portfolio\n",
      "country : ie\n",
      "\n",
      "3/10 positive, 16/10 negative\n",
      "Do these records refer to the same thing?\n",
      "(y)es / (n)o / (u)nsure / (f)inished / (p)revious\n"
     ]
    },
    {
     "name": "stdin",
     "output_type": "stream",
     "text": [
      " n\n"
     ]
    },
    {
     "name": "stderr",
     "output_type": "stream",
     "text": [
      "name : None\n",
      "country : ie\n",
      "\n",
      "name : towers watson diversifying strategies master fund\n",
      "country : ie\n",
      "\n",
      "3/10 positive, 17/10 negative\n",
      "Do these records refer to the same thing?\n",
      "(y)es / (n)o / (u)nsure / (f)inished / (p)revious\n"
     ]
    },
    {
     "name": "stdin",
     "output_type": "stream",
     "text": [
      " n\n"
     ]
    },
    {
     "name": "stderr",
     "output_type": "stream",
     "text": [
      "name : None\n",
      "country : ie\n",
      "\n",
      "name : avi japanese special situations fund\n",
      "country : ie\n",
      "\n",
      "3/10 positive, 18/10 negative\n",
      "Do these records refer to the same thing?\n",
      "(y)es / (n)o / (u)nsure / (f)inished / (p)revious\n"
     ]
    },
    {
     "name": "stdin",
     "output_type": "stream",
     "text": [
      " n\n"
     ]
    },
    {
     "name": "stderr",
     "output_type": "stream",
     "text": [
      "name : None\n",
      "country : ie\n",
      "\n",
      "name : permal managed account platform icav p swm europe ie\n",
      "country : ie\n",
      "\n",
      "3/10 positive, 19/10 negative\n",
      "Do these records refer to the same thing?\n",
      "(y)es / (n)o / (u)nsure / (f)inished / (p)revious\n"
     ]
    },
    {
     "name": "stdin",
     "output_type": "stream",
     "text": [
      " n\n"
     ]
    },
    {
     "name": "stderr",
     "output_type": "stream",
     "text": [
      "name : None\n",
      "country : ie\n",
      "\n",
      "name : dara rock unlimited company\n",
      "country : ie\n",
      "\n",
      "3/10 positive, 20/10 negative\n",
      "Do these records refer to the same thing?\n",
      "(y)es / (n)o / (u)nsure / (f)inished / (p)revious\n"
     ]
    },
    {
     "name": "stdin",
     "output_type": "stream",
     "text": [
      " n\n"
     ]
    },
    {
     "name": "stderr",
     "output_type": "stream",
     "text": [
      "name : None\n",
      "country : ie\n",
      "\n",
      "name : nuveen global clean infrastructure impact fund\n",
      "country : ie\n",
      "\n",
      "3/10 positive, 21/10 negative\n",
      "Do these records refer to the same thing?\n",
      "(y)es / (n)o / (u)nsure / (f)inished / (p)revious\n"
     ]
    },
    {
     "name": "stdin",
     "output_type": "stream",
     "text": [
      " n\n"
     ]
    },
    {
     "name": "stderr",
     "output_type": "stream",
     "text": [
      "name : None\n",
      "country : ie\n",
      "\n",
      "name : nuveen global clean infrastructure impact fund\n",
      "country : ie\n",
      "\n",
      "3/10 positive, 22/10 negative\n",
      "Do these records refer to the same thing?\n",
      "(y)es / (n)o / (u)nsure / (f)inished / (p)revious\n"
     ]
    },
    {
     "name": "stdin",
     "output_type": "stream",
     "text": [
      " n\n"
     ]
    },
    {
     "name": "stderr",
     "output_type": "stream",
     "text": [
      "name : None\n",
      "country : ie\n",
      "\n",
      "name : keerajac limited\n",
      "country : ie\n",
      "\n",
      "3/10 positive, 23/10 negative\n",
      "Do these records refer to the same thing?\n",
      "(y)es / (n)o / (u)nsure / (f)inished / (p)revious\n"
     ]
    },
    {
     "name": "stdin",
     "output_type": "stream",
     "text": [
      " n\n"
     ]
    },
    {
     "name": "stderr",
     "output_type": "stream",
     "text": [
      "name : None\n",
      "country : ie\n",
      "\n",
      "name : ishares msci world parisaligned climate ucits etf\n",
      "country : ie\n",
      "\n",
      "3/10 positive, 24/10 negative\n",
      "Do these records refer to the same thing?\n",
      "(y)es / (n)o / (u)nsure / (f)inished / (p)revious\n"
     ]
    },
    {
     "name": "stdin",
     "output_type": "stream",
     "text": [
      " n\n"
     ]
    },
    {
     "name": "stderr",
     "output_type": "stream",
     "text": [
      "name : None\n",
      "country : ie\n",
      "\n",
      "name : anchorage capital europe clo 8 designated activity company\n",
      "country : ie\n",
      "\n",
      "3/10 positive, 25/10 negative\n",
      "Do these records refer to the same thing?\n",
      "(y)es / (n)o / (u)nsure / (f)inished / (p)revious\n"
     ]
    },
    {
     "name": "stdin",
     "output_type": "stream",
     "text": [
      " n\n"
     ]
    },
    {
     "name": "stderr",
     "output_type": "stream",
     "text": [
      "name : chana\n",
      "country : fr\n",
      "\n",
      "name : nam.r\n",
      "country : fr\n",
      "\n",
      "3/10 positive, 26/10 negative\n",
      "Do these records refer to the same thing?\n",
      "(y)es / (n)o / (u)nsure / (f)inished / (p)revious\n"
     ]
    },
    {
     "name": "stdin",
     "output_type": "stream",
     "text": [
      " n\n"
     ]
    },
    {
     "name": "stderr",
     "output_type": "stream",
     "text": [
      "name : mbs invest 2\n",
      "country : de\n",
      "\n",
      "name : zvkkvs2fonds\n",
      "country : de\n",
      "\n",
      "3/10 positive, 27/10 negative\n",
      "Do these records refer to the same thing?\n",
      "(y)es / (n)o / (u)nsure / (f)inished / (p)revious\n"
     ]
    },
    {
     "name": "stdin",
     "output_type": "stream",
     "text": [
      " n\n"
     ]
    },
    {
     "name": "stderr",
     "output_type": "stream",
     "text": [
      "name : None\n",
      "country : ie\n",
      "\n",
      "name : alphas managed accounts platform lxxxiii limited clark fixed income total return segregated portfolio\n",
      "country : ie\n",
      "\n",
      "3/10 positive, 28/10 negative\n",
      "Do these records refer to the same thing?\n",
      "(y)es / (n)o / (u)nsure / (f)inished / (p)revious\n"
     ]
    },
    {
     "name": "stdin",
     "output_type": "stream",
     "text": [
      " n\n"
     ]
    },
    {
     "name": "stderr",
     "output_type": "stream",
     "text": [
      "name : None\n",
      "country : ie\n",
      "\n",
      "name : anchorage capital europe clo 8 designated activity company\n",
      "country : ie\n",
      "\n",
      "3/10 positive, 29/10 negative\n",
      "Do these records refer to the same thing?\n",
      "(y)es / (n)o / (u)nsure / (f)inished / (p)revious\n"
     ]
    },
    {
     "name": "stdin",
     "output_type": "stream",
     "text": [
      " n\n"
     ]
    },
    {
     "name": "stderr",
     "output_type": "stream",
     "text": [
      "name : None\n",
      "country : ie\n",
      "\n",
      "name : syquant icav\n",
      "country : ie\n",
      "\n",
      "3/10 positive, 30/10 negative\n",
      "Do these records refer to the same thing?\n",
      "(y)es / (n)o / (u)nsure / (f)inished / (p)revious\n"
     ]
    },
    {
     "name": "stdin",
     "output_type": "stream",
     "text": [
      " n\n"
     ]
    },
    {
     "name": "stderr",
     "output_type": "stream",
     "text": [
      "name : None\n",
      "country : ie\n",
      "\n",
      "name : ge capital european treasury services ireland unlimited company\n",
      "country : ie\n",
      "\n",
      "3/10 positive, 31/10 negative\n",
      "Do these records refer to the same thing?\n",
      "(y)es / (n)o / (u)nsure / (f)inished / (p)revious\n"
     ]
    },
    {
     "name": "stdin",
     "output_type": "stream",
     "text": [
      " n\n"
     ]
    },
    {
     "name": "stderr",
     "output_type": "stream",
     "text": [
      "name : None\n",
      "country : ie\n",
      "\n",
      "name : last mile logistics cmbs 20231 uk designated activity company\n",
      "country : ie\n",
      "\n",
      "3/10 positive, 32/10 negative\n",
      "Do these records refer to the same thing?\n",
      "(y)es / (n)o / (u)nsure / (f)inished / (p)revious\n"
     ]
    },
    {
     "name": "stdin",
     "output_type": "stream",
     "text": [
      " n\n"
     ]
    },
    {
     "name": "stderr",
     "output_type": "stream",
     "text": [
      "name : None\n",
      "country : ie\n",
      "\n",
      "name : alphas managed accounts platform lxxxiii limited clark fixed income total return segregated portfolio\n",
      "country : ie\n",
      "\n",
      "3/10 positive, 33/10 negative\n",
      "Do these records refer to the same thing?\n",
      "(y)es / (n)o / (u)nsure / (f)inished / (p)revious\n"
     ]
    },
    {
     "name": "stdin",
     "output_type": "stream",
     "text": [
      " n\n"
     ]
    },
    {
     "name": "stderr",
     "output_type": "stream",
     "text": [
      "name : None\n",
      "country : ie\n",
      "\n",
      "name : avi japanese special situations fund\n",
      "country : ie\n",
      "\n",
      "3/10 positive, 34/10 negative\n",
      "Do these records refer to the same thing?\n",
      "(y)es / (n)o / (u)nsure / (f)inished / (p)revious\n"
     ]
    },
    {
     "name": "stdin",
     "output_type": "stream",
     "text": [
      " n\n"
     ]
    },
    {
     "name": "stderr",
     "output_type": "stream",
     "text": [
      "name : None\n",
      "country : ie\n",
      "\n",
      "name : wellington leasing no. 36 limited\n",
      "country : ie\n",
      "\n",
      "3/10 positive, 35/10 negative\n",
      "Do these records refer to the same thing?\n",
      "(y)es / (n)o / (u)nsure / (f)inished / (p)revious\n"
     ]
    },
    {
     "name": "stdin",
     "output_type": "stream",
     "text": [
      " n\n"
     ]
    },
    {
     "name": "stderr",
     "output_type": "stream",
     "text": [
      "name : None\n",
      "country : ie\n",
      "\n",
      "name : ct responsible china ashares equity fund\n",
      "country : ie\n",
      "\n",
      "3/10 positive, 36/10 negative\n",
      "Do these records refer to the same thing?\n",
      "(y)es / (n)o / (u)nsure / (f)inished / (p)revious\n"
     ]
    },
    {
     "name": "stdin",
     "output_type": "stream",
     "text": [
      " \n"
     ]
    },
    {
     "name": "stderr",
     "output_type": "stream",
     "text": [
      "(y)es / (n)o / (u)nsure / (f)inished / (p)revious\n"
     ]
    },
    {
     "name": "stdin",
     "output_type": "stream",
     "text": [
      " nn\n"
     ]
    },
    {
     "name": "stderr",
     "output_type": "stream",
     "text": [
      "(y)es / (n)o / (u)nsure / (f)inished / (p)revious\n"
     ]
    },
    {
     "name": "stdin",
     "output_type": "stream",
     "text": [
      " n\n"
     ]
    },
    {
     "name": "stderr",
     "output_type": "stream",
     "text": [
      "name : None\n",
      "country : ie\n",
      "\n",
      "name : anchorage capital europe clo 8 designated activity company\n",
      "country : ie\n",
      "\n",
      "3/10 positive, 37/10 negative\n",
      "Do these records refer to the same thing?\n",
      "(y)es / (n)o / (u)nsure / (f)inished / (p)revious\n"
     ]
    },
    {
     "name": "stdin",
     "output_type": "stream",
     "text": [
      " n\n"
     ]
    },
    {
     "name": "stderr",
     "output_type": "stream",
     "text": [
      "name : None\n",
      "country : ie\n",
      "\n",
      "name : polen capital global growth fund\n",
      "country : ie\n",
      "\n",
      "3/10 positive, 38/10 negative\n",
      "Do these records refer to the same thing?\n",
      "(y)es / (n)o / (u)nsure / (f)inished / (p)revious\n"
     ]
    },
    {
     "name": "stdin",
     "output_type": "stream",
     "text": [
      " n\n"
     ]
    },
    {
     "name": "stderr",
     "output_type": "stream",
     "text": [
      "name : None\n",
      "country : ie\n",
      "\n",
      "name : ishares msci world parisaligned climate ucits etf\n",
      "country : ie\n",
      "\n",
      "3/10 positive, 39/10 negative\n",
      "Do these records refer to the same thing?\n",
      "(y)es / (n)o / (u)nsure / (f)inished / (p)revious\n"
     ]
    },
    {
     "name": "stdin",
     "output_type": "stream",
     "text": [
      " n\n"
     ]
    },
    {
     "name": "stderr",
     "output_type": "stream",
     "text": [
      "name : None\n",
      "country : ie\n",
      "\n",
      "name : new ireland life management services limited\n",
      "country : ie\n",
      "\n",
      "3/10 positive, 40/10 negative\n",
      "Do these records refer to the same thing?\n",
      "(y)es / (n)o / (u)nsure / (f)inished / (p)revious\n"
     ]
    },
    {
     "name": "stdin",
     "output_type": "stream",
     "text": [
      " n\n"
     ]
    },
    {
     "name": "stderr",
     "output_type": "stream",
     "text": [
      "name : None\n",
      "country : ie\n",
      "\n",
      "name : new ireland life management services limited\n",
      "country : ie\n",
      "\n",
      "3/10 positive, 41/10 negative\n",
      "Do these records refer to the same thing?\n",
      "(y)es / (n)o / (u)nsure / (f)inished / (p)revious\n"
     ]
    },
    {
     "name": "stdin",
     "output_type": "stream",
     "text": [
      " n\n"
     ]
    },
    {
     "name": "stderr",
     "output_type": "stream",
     "text": [
      "name : None\n",
      "country : ie\n",
      "\n",
      "name : ldi solutions plus icav ldi solutions plus nominal funds 20262030\n",
      "country : ie\n",
      "\n",
      "3/10 positive, 42/10 negative\n",
      "Do these records refer to the same thing?\n",
      "(y)es / (n)o / (u)nsure / (f)inished / (p)revious\n"
     ]
    },
    {
     "name": "stdin",
     "output_type": "stream",
     "text": [
      " n\n"
     ]
    },
    {
     "name": "stderr",
     "output_type": "stream",
     "text": [
      "name : None\n",
      "country : ie\n",
      "\n",
      "name : anchorage capital europe clo 8 designated activity company\n",
      "country : ie\n",
      "\n",
      "3/10 positive, 43/10 negative\n",
      "Do these records refer to the same thing?\n",
      "(y)es / (n)o / (u)nsure / (f)inished / (p)revious\n"
     ]
    },
    {
     "name": "stdin",
     "output_type": "stream",
     "text": [
      " n\n"
     ]
    },
    {
     "name": "stderr",
     "output_type": "stream",
     "text": [
      "name : None\n",
      "country : ie\n",
      "\n",
      "name : ldi solutions plus icav ldi solutions plus nominal funds 20262030\n",
      "country : ie\n",
      "\n",
      "3/10 positive, 44/10 negative\n",
      "Do these records refer to the same thing?\n",
      "(y)es / (n)o / (u)nsure / (f)inished / (p)revious\n"
     ]
    },
    {
     "name": "stdin",
     "output_type": "stream",
     "text": [
      " n\n"
     ]
    },
    {
     "name": "stderr",
     "output_type": "stream",
     "text": [
      "name : None\n",
      "country : ie\n",
      "\n",
      "name : sanlam universal funds plc sanlam african frontier markets fund\n",
      "country : ie\n",
      "\n",
      "3/10 positive, 45/10 negative\n",
      "Do these records refer to the same thing?\n",
      "(y)es / (n)o / (u)nsure / (f)inished / (p)revious\n"
     ]
    },
    {
     "name": "stdin",
     "output_type": "stream",
     "text": [
      " n\n"
     ]
    },
    {
     "name": "stderr",
     "output_type": "stream",
     "text": [
      "name : None\n",
      "country : ie\n",
      "\n",
      "name : ge capital european treasury services ireland unlimited company\n",
      "country : ie\n",
      "\n",
      "3/10 positive, 46/10 negative\n",
      "Do these records refer to the same thing?\n",
      "(y)es / (n)o / (u)nsure / (f)inished / (p)revious\n"
     ]
    },
    {
     "name": "stdin",
     "output_type": "stream",
     "text": [
      " n\n"
     ]
    },
    {
     "name": "stderr",
     "output_type": "stream",
     "text": [
      "name : None\n",
      "country : ie\n",
      "\n",
      "name : impax listed infrastructure fund\n",
      "country : ie\n",
      "\n",
      "3/10 positive, 47/10 negative\n",
      "Do these records refer to the same thing?\n",
      "(y)es / (n)o / (u)nsure / (f)inished / (p)revious\n"
     ]
    },
    {
     "name": "stdin",
     "output_type": "stream",
     "text": [
      " n\n"
     ]
    },
    {
     "name": "stderr",
     "output_type": "stream",
     "text": [
      "name : psm\n",
      "country : fr\n",
      "\n",
      "name : m4d\n",
      "country : fr\n",
      "\n",
      "3/10 positive, 48/10 negative\n",
      "Do these records refer to the same thing?\n",
      "(y)es / (n)o / (u)nsure / (f)inished / (p)revious\n"
     ]
    },
    {
     "name": "stdin",
     "output_type": "stream",
     "text": [
      " n\n"
     ]
    },
    {
     "name": "stderr",
     "output_type": "stream",
     "text": [
      "name : psm\n",
      "country : fr\n",
      "\n",
      "name : 2jp\n",
      "country : fr\n",
      "\n",
      "3/10 positive, 49/10 negative\n",
      "Do these records refer to the same thing?\n",
      "(y)es / (n)o / (u)nsure / (f)inished / (p)revious\n"
     ]
    },
    {
     "name": "stdin",
     "output_type": "stream",
     "text": [
      " n\n"
     ]
    },
    {
     "name": "stderr",
     "output_type": "stream",
     "text": [
      "name : None\n",
      "country : ie\n",
      "\n",
      "name : oakview capital l6 designated activity company\n",
      "country : ie\n",
      "\n",
      "3/10 positive, 50/10 negative\n",
      "Do these records refer to the same thing?\n",
      "(y)es / (n)o / (u)nsure / (f)inished / (p)revious\n"
     ]
    },
    {
     "name": "stdin",
     "output_type": "stream",
     "text": [
      " n\n"
     ]
    },
    {
     "name": "stderr",
     "output_type": "stream",
     "text": [
      "name : None\n",
      "country : ie\n",
      "\n",
      "name : metzler international investments plc metzler european equity enhanced\n",
      "country : ie\n",
      "\n",
      "3/10 positive, 51/10 negative\n",
      "Do these records refer to the same thing?\n",
      "(y)es / (n)o / (u)nsure / (f)inished / (p)revious\n"
     ]
    },
    {
     "name": "stdin",
     "output_type": "stream",
     "text": [
      " n\n"
     ]
    },
    {
     "name": "stderr",
     "output_type": "stream",
     "text": [
      "name : None\n",
      "country : ie\n",
      "\n",
      "name : gerard kenneally executive pension scheme\n",
      "country : ie\n",
      "\n",
      "3/10 positive, 52/10 negative\n",
      "Do these records refer to the same thing?\n",
      "(y)es / (n)o / (u)nsure / (f)inished / (p)revious\n"
     ]
    },
    {
     "name": "stdin",
     "output_type": "stream",
     "text": [
      " n\n"
     ]
    },
    {
     "name": "stderr",
     "output_type": "stream",
     "text": [
      "name : None\n",
      "country : ie\n",
      "\n",
      "name : ge capital european treasury services ireland unlimited company\n",
      "country : ie\n",
      "\n",
      "3/10 positive, 53/10 negative\n",
      "Do these records refer to the same thing?\n",
      "(y)es / (n)o / (u)nsure / (f)inished / (p)revious\n"
     ]
    },
    {
     "name": "stdin",
     "output_type": "stream",
     "text": [
      " n\n"
     ]
    },
    {
     "name": "stderr",
     "output_type": "stream",
     "text": [
      "name : None\n",
      "country : ie\n",
      "\n",
      "name : impax listed infrastructure fund\n",
      "country : ie\n",
      "\n",
      "3/10 positive, 54/10 negative\n",
      "Do these records refer to the same thing?\n",
      "(y)es / (n)o / (u)nsure / (f)inished / (p)revious\n"
     ]
    },
    {
     "name": "stdin",
     "output_type": "stream",
     "text": [
      " n\n"
     ]
    },
    {
     "name": "stderr",
     "output_type": "stream",
     "text": [
      "name : None\n",
      "country : ie\n",
      "\n",
      "name : last mile logistics cmbs 20231 uk designated activity company\n",
      "country : ie\n",
      "\n",
      "3/10 positive, 55/10 negative\n",
      "Do these records refer to the same thing?\n",
      "(y)es / (n)o / (u)nsure / (f)inished / (p)revious\n"
     ]
    },
    {
     "name": "stdin",
     "output_type": "stream",
     "text": [
      " n\n"
     ]
    },
    {
     "name": "stderr",
     "output_type": "stream",
     "text": [
      "name : None\n",
      "country : ie\n",
      "\n",
      "name : gerard kenneally executive pension scheme\n",
      "country : ie\n",
      "\n",
      "3/10 positive, 56/10 negative\n",
      "Do these records refer to the same thing?\n",
      "(y)es / (n)o / (u)nsure / (f)inished / (p)revious\n"
     ]
    },
    {
     "name": "stdin",
     "output_type": "stream",
     "text": [
      " n\n"
     ]
    },
    {
     "name": "stderr",
     "output_type": "stream",
     "text": [
      "name : None\n",
      "country : ie\n",
      "\n",
      "name : overdrivex limited\n",
      "country : ie\n",
      "\n",
      "3/10 positive, 57/10 negative\n",
      "Do these records refer to the same thing?\n",
      "(y)es / (n)o / (u)nsure / (f)inished / (p)revious\n"
     ]
    },
    {
     "name": "stdin",
     "output_type": "stream",
     "text": [
      " n\n"
     ]
    },
    {
     "name": "stderr",
     "output_type": "stream",
     "text": [
      "name : None\n",
      "country : ie\n",
      "\n",
      "name : ldi solutions plus icav ldi solutions plus nominal funds 20262030\n",
      "country : ie\n",
      "\n",
      "3/10 positive, 58/10 negative\n",
      "Do these records refer to the same thing?\n",
      "(y)es / (n)o / (u)nsure / (f)inished / (p)revious\n"
     ]
    },
    {
     "name": "stdin",
     "output_type": "stream",
     "text": [
      " n\n"
     ]
    },
    {
     "name": "stderr",
     "output_type": "stream",
     "text": [
      "name : None\n",
      "country : ie\n",
      "\n",
      "name : ishares msci world parisaligned climate ucits etf\n",
      "country : ie\n",
      "\n",
      "3/10 positive, 59/10 negative\n",
      "Do these records refer to the same thing?\n",
      "(y)es / (n)o / (u)nsure / (f)inished / (p)revious\n"
     ]
    },
    {
     "name": "stdin",
     "output_type": "stream",
     "text": [
      " n\n"
     ]
    },
    {
     "name": "stderr",
     "output_type": "stream",
     "text": [
      "name : None\n",
      "country : ie\n",
      "\n",
      "name : fundlogic alternatives plc mariner investment diversifying alternative ucits fund\n",
      "country : ie\n",
      "\n",
      "3/10 positive, 60/10 negative\n",
      "Do these records refer to the same thing?\n",
      "(y)es / (n)o / (u)nsure / (f)inished / (p)revious\n"
     ]
    },
    {
     "name": "stdin",
     "output_type": "stream",
     "text": [
      " n\n"
     ]
    },
    {
     "name": "stderr",
     "output_type": "stream",
     "text": [
      "name : None\n",
      "country : ie\n",
      "\n",
      "name : wellington leasing no. 36 limited\n",
      "country : ie\n",
      "\n",
      "3/10 positive, 61/10 negative\n",
      "Do these records refer to the same thing?\n",
      "(y)es / (n)o / (u)nsure / (f)inished / (p)revious\n"
     ]
    },
    {
     "name": "stdin",
     "output_type": "stream",
     "text": [
      " n\n"
     ]
    },
    {
     "name": "stderr",
     "output_type": "stream",
     "text": [
      "name : None\n",
      "country : ie\n",
      "\n",
      "name : keerajac limited\n",
      "country : ie\n",
      "\n",
      "3/10 positive, 62/10 negative\n",
      "Do these records refer to the same thing?\n",
      "(y)es / (n)o / (u)nsure / (f)inished / (p)revious\n"
     ]
    },
    {
     "name": "stdin",
     "output_type": "stream",
     "text": [
      " n\n"
     ]
    },
    {
     "name": "stderr",
     "output_type": "stream",
     "text": [
      "name : None\n",
      "country : ie\n",
      "\n",
      "name : coach stores ireland limited\n",
      "country : ie\n",
      "\n",
      "3/10 positive, 63/10 negative\n",
      "Do these records refer to the same thing?\n",
      "(y)es / (n)o / (u)nsure / (f)inished / (p)revious\n"
     ]
    },
    {
     "name": "stdin",
     "output_type": "stream",
     "text": [
      " n\n"
     ]
    },
    {
     "name": "stderr",
     "output_type": "stream",
     "text": [
      "name : None\n",
      "country : ie\n",
      "\n",
      "name : ge capital european treasury services ireland unlimited company\n",
      "country : ie\n",
      "\n",
      "3/10 positive, 64/10 negative\n",
      "Do these records refer to the same thing?\n",
      "(y)es / (n)o / (u)nsure / (f)inished / (p)revious\n"
     ]
    },
    {
     "name": "stdin",
     "output_type": "stream",
     "text": [
      " n\n"
     ]
    },
    {
     "name": "stderr",
     "output_type": "stream",
     "text": [
      "name : None\n",
      "country : ie\n",
      "\n",
      "name : bpc ireland lending ii designated activity company\n",
      "country : ie\n",
      "\n",
      "3/10 positive, 65/10 negative\n",
      "Do these records refer to the same thing?\n",
      "(y)es / (n)o / (u)nsure / (f)inished / (p)revious\n"
     ]
    },
    {
     "name": "stdin",
     "output_type": "stream",
     "text": [
      " n\n"
     ]
    },
    {
     "name": "stderr",
     "output_type": "stream",
     "text": [
      "name : None\n",
      "country : ie\n",
      "\n",
      "name : wellington leasing no. 36 limited\n",
      "country : ie\n",
      "\n",
      "3/10 positive, 66/10 negative\n",
      "Do these records refer to the same thing?\n",
      "(y)es / (n)o / (u)nsure / (f)inished / (p)revious\n"
     ]
    },
    {
     "name": "stdin",
     "output_type": "stream",
     "text": [
      " n\n"
     ]
    },
    {
     "name": "stderr",
     "output_type": "stream",
     "text": [
      "name : None\n",
      "country : ie\n",
      "\n",
      "name : oakview capital l6 designated activity company\n",
      "country : ie\n",
      "\n",
      "3/10 positive, 67/10 negative\n",
      "Do these records refer to the same thing?\n",
      "(y)es / (n)o / (u)nsure / (f)inished / (p)revious\n"
     ]
    },
    {
     "name": "stdin",
     "output_type": "stream",
     "text": [
      " n\n"
     ]
    },
    {
     "name": "stderr",
     "output_type": "stream",
     "text": [
      "name : None\n",
      "country : ie\n",
      "\n",
      "name : anchorage capital europe clo 8 designated activity company\n",
      "country : ie\n",
      "\n",
      "3/10 positive, 68/10 negative\n",
      "Do these records refer to the same thing?\n",
      "(y)es / (n)o / (u)nsure / (f)inished / (p)revious\n"
     ]
    },
    {
     "name": "stdin",
     "output_type": "stream",
     "text": [
      " n\n"
     ]
    },
    {
     "name": "stderr",
     "output_type": "stream",
     "text": [
      "name : None\n",
      "country : ie\n",
      "\n",
      "name : gerard kenneally executive pension scheme\n",
      "country : ie\n",
      "\n",
      "3/10 positive, 69/10 negative\n",
      "Do these records refer to the same thing?\n",
      "(y)es / (n)o / (u)nsure / (f)inished / (p)revious\n"
     ]
    },
    {
     "name": "stdin",
     "output_type": "stream",
     "text": [
      " n\n"
     ]
    },
    {
     "name": "stderr",
     "output_type": "stream",
     "text": [
      "name : None\n",
      "country : ie\n",
      "\n",
      "name : darren lynch executive pension scheme\n",
      "country : ie\n",
      "\n",
      "3/10 positive, 70/10 negative\n",
      "Do these records refer to the same thing?\n",
      "(y)es / (n)o / (u)nsure / (f)inished / (p)revious\n"
     ]
    },
    {
     "name": "stdin",
     "output_type": "stream",
     "text": [
      " \n"
     ]
    },
    {
     "name": "stderr",
     "output_type": "stream",
     "text": [
      "(y)es / (n)o / (u)nsure / (f)inished / (p)revious\n"
     ]
    },
    {
     "name": "stdin",
     "output_type": "stream",
     "text": [
      " f\n"
     ]
    },
    {
     "name": "stderr",
     "output_type": "stream",
     "text": [
      "Finished labeling\n",
      "/home/colombo/anaconda3/envs/spark/lib/python3.10/site-packages/sklearn/model_selection/_split.py:737: UserWarning: The least populated class in y has only 3 members, which is less than n_splits=5.\n",
      "  warnings.warn(\n",
      "/home/colombo/anaconda3/envs/spark/lib/python3.10/site-packages/sklearn/metrics/_classification.py:1497: UndefinedMetricWarning: F-score is ill-defined and being set to 0.0 due to no true nor predicted samples. Use `zero_division` parameter to control this behavior.\n",
      "  _warn_prf(average, modifier, f\"{metric.capitalize()} is\", len(result))\n",
      "/home/colombo/anaconda3/envs/spark/lib/python3.10/site-packages/sklearn/metrics/_classification.py:1497: UndefinedMetricWarning: F-score is ill-defined and being set to 0.0 due to no true nor predicted samples. Use `zero_division` parameter to control this behavior.\n",
      "  _warn_prf(average, modifier, f\"{metric.capitalize()} is\", len(result))\n",
      "/home/colombo/anaconda3/envs/spark/lib/python3.10/site-packages/sklearn/metrics/_classification.py:1497: UndefinedMetricWarning: F-score is ill-defined and being set to 0.0 due to no true nor predicted samples. Use `zero_division` parameter to control this behavior.\n",
      "  _warn_prf(average, modifier, f\"{metric.capitalize()} is\", len(result))\n",
      "/home/colombo/anaconda3/envs/spark/lib/python3.10/site-packages/sklearn/metrics/_classification.py:1497: UndefinedMetricWarning: F-score is ill-defined and being set to 0.0 due to no true nor predicted samples. Use `zero_division` parameter to control this behavior.\n",
      "  _warn_prf(average, modifier, f\"{metric.capitalize()} is\", len(result))\n",
      "/home/colombo/anaconda3/envs/spark/lib/python3.10/site-packages/sklearn/metrics/_classification.py:1497: UndefinedMetricWarning: F-score is ill-defined and being set to 0.0 due to no true nor predicted samples. Use `zero_division` parameter to control this behavior.\n",
      "  _warn_prf(average, modifier, f\"{metric.capitalize()} is\", len(result))\n",
      "/home/colombo/anaconda3/envs/spark/lib/python3.10/site-packages/sklearn/metrics/_classification.py:1497: UndefinedMetricWarning: F-score is ill-defined and being set to 0.0 due to no true nor predicted samples. Use `zero_division` parameter to control this behavior.\n",
      "  _warn_prf(average, modifier, f\"{metric.capitalize()} is\", len(result))\n",
      "/home/colombo/anaconda3/envs/spark/lib/python3.10/site-packages/sklearn/metrics/_classification.py:1497: UndefinedMetricWarning: F-score is ill-defined and being set to 0.0 due to no true nor predicted samples. Use `zero_division` parameter to control this behavior.\n",
      "  _warn_prf(average, modifier, f\"{metric.capitalize()} is\", len(result))\n",
      "/home/colombo/anaconda3/envs/spark/lib/python3.10/site-packages/sklearn/metrics/_classification.py:1497: UndefinedMetricWarning: F-score is ill-defined and being set to 0.0 due to no true nor predicted samples. Use `zero_division` parameter to control this behavior.\n",
      "  _warn_prf(average, modifier, f\"{metric.capitalize()} is\", len(result))\n",
      "/home/colombo/anaconda3/envs/spark/lib/python3.10/site-packages/sklearn/metrics/_classification.py:1497: UndefinedMetricWarning: F-score is ill-defined and being set to 0.0 due to no true nor predicted samples. Use `zero_division` parameter to control this behavior.\n",
      "  _warn_prf(average, modifier, f\"{metric.capitalize()} is\", len(result))\n",
      "/home/colombo/anaconda3/envs/spark/lib/python3.10/site-packages/sklearn/metrics/_classification.py:1497: UndefinedMetricWarning: F-score is ill-defined and being set to 0.0 due to no true nor predicted samples. Use `zero_division` parameter to control this behavior.\n",
      "  _warn_prf(average, modifier, f\"{metric.capitalize()} is\", len(result))\n",
      "/home/colombo/anaconda3/envs/spark/lib/python3.10/site-packages/sklearn/metrics/_classification.py:1497: UndefinedMetricWarning: F-score is ill-defined and being set to 0.0 due to no true nor predicted samples. Use `zero_division` parameter to control this behavior.\n",
      "  _warn_prf(average, modifier, f\"{metric.capitalize()} is\", len(result))\n",
      "/home/colombo/anaconda3/envs/spark/lib/python3.10/site-packages/sklearn/metrics/_classification.py:1497: UndefinedMetricWarning: F-score is ill-defined and being set to 0.0 due to no true nor predicted samples. Use `zero_division` parameter to control this behavior.\n",
      "  _warn_prf(average, modifier, f\"{metric.capitalize()} is\", len(result))\n",
      "/home/colombo/anaconda3/envs/spark/lib/python3.10/site-packages/sklearn/metrics/_classification.py:1497: UndefinedMetricWarning: F-score is ill-defined and being set to 0.0 due to no true nor predicted samples. Use `zero_division` parameter to control this behavior.\n",
      "  _warn_prf(average, modifier, f\"{metric.capitalize()} is\", len(result))\n",
      "/home/colombo/anaconda3/envs/spark/lib/python3.10/site-packages/sklearn/metrics/_classification.py:1497: UndefinedMetricWarning: F-score is ill-defined and being set to 0.0 due to no true nor predicted samples. Use `zero_division` parameter to control this behavior.\n",
      "  _warn_prf(average, modifier, f\"{metric.capitalize()} is\", len(result))\n"
     ]
    },
    {
     "name": "stdout",
     "output_type": "stream",
     "text": [
      "clustering...\n"
     ]
    },
    {
     "ename": "KeyboardInterrupt",
     "evalue": "",
     "output_type": "error",
     "traceback": [
      "\u001b[0;31m---------------------------------------------------------------------------\u001b[0m",
      "\u001b[0;31mKeyboardInterrupt\u001b[0m                         Traceback (most recent call last)",
      "Cell \u001b[0;32mIn[10], line 32\u001b[0m\n\u001b[1;32m     29\u001b[0m         linker\u001b[38;5;241m.\u001b[39mwrite_settings(sf)\n\u001b[1;32m     31\u001b[0m \u001b[38;5;28mprint\u001b[39m(\u001b[38;5;124m'\u001b[39m\u001b[38;5;124mclustering...\u001b[39m\u001b[38;5;124m'\u001b[39m)\n\u001b[0;32m---> 32\u001b[0m linked_records \u001b[38;5;241m=\u001b[39m \u001b[43mlinker\u001b[49m\u001b[38;5;241;43m.\u001b[39;49m\u001b[43mjoin\u001b[49m\u001b[43m(\u001b[49m\u001b[43mdata_1\u001b[49m\u001b[43m,\u001b[49m\u001b[43m \u001b[49m\u001b[43mdata_2\u001b[49m\u001b[43m,\u001b[49m\u001b[43m \u001b[49m\u001b[38;5;241;43m1.0\u001b[39;49m\u001b[43m)\u001b[49m \n\u001b[1;32m     34\u001b[0m \u001b[38;5;28mprint\u001b[39m(\u001b[38;5;124m'\u001b[39m\u001b[38;5;124m# duplicate sets\u001b[39m\u001b[38;5;124m'\u001b[39m, \u001b[38;5;28mlen\u001b[39m(linked_records))\n\u001b[1;32m     36\u001b[0m cluster_membership \u001b[38;5;241m=\u001b[39m {}\n",
      "File \u001b[0;32m~/anaconda3/envs/spark/lib/python3.10/site-packages/dedupe/api.py:549\u001b[0m, in \u001b[0;36mRecordLinkMatching.join\u001b[0;34m(self, data_1, data_2, threshold, constraint)\u001b[0m\n\u001b[1;32m    543\u001b[0m \u001b[38;5;28;01massert\u001b[39;00m constraint \u001b[38;5;129;01min\u001b[39;00m {\u001b[38;5;124m\"\u001b[39m\u001b[38;5;124mone-to-one\u001b[39m\u001b[38;5;124m\"\u001b[39m, \u001b[38;5;124m\"\u001b[39m\u001b[38;5;124mmany-to-one\u001b[39m\u001b[38;5;124m\"\u001b[39m, \u001b[38;5;124m\"\u001b[39m\u001b[38;5;124mmany-to-many\u001b[39m\u001b[38;5;124m\"\u001b[39m}, (\n\u001b[1;32m    544\u001b[0m     \u001b[38;5;124m\"\u001b[39m\u001b[38;5;132;01m%s\u001b[39;00m\u001b[38;5;124m is an invalid constraint option. Valid options include \u001b[39m\u001b[38;5;124m\"\u001b[39m\n\u001b[1;32m    545\u001b[0m     \u001b[38;5;124m\"\u001b[39m\u001b[38;5;124mone-to-one, many-to-one, or many-to-many\u001b[39m\u001b[38;5;124m\"\u001b[39m \u001b[38;5;241m%\u001b[39m constraint\n\u001b[1;32m    546\u001b[0m )\n\u001b[1;32m    548\u001b[0m pairs \u001b[38;5;241m=\u001b[39m \u001b[38;5;28mself\u001b[39m\u001b[38;5;241m.\u001b[39mpairs(data_1, data_2)\n\u001b[0;32m--> 549\u001b[0m pair_scores \u001b[38;5;241m=\u001b[39m \u001b[38;5;28;43mself\u001b[39;49m\u001b[38;5;241;43m.\u001b[39;49m\u001b[43mscore\u001b[49m\u001b[43m(\u001b[49m\u001b[43mpairs\u001b[49m\u001b[43m)\u001b[49m\n\u001b[1;32m    551\u001b[0m links: Links\n\u001b[1;32m    552\u001b[0m \u001b[38;5;28;01mif\u001b[39;00m constraint \u001b[38;5;241m==\u001b[39m \u001b[38;5;124m\"\u001b[39m\u001b[38;5;124mone-to-one\u001b[39m\u001b[38;5;124m\"\u001b[39m:\n",
      "File \u001b[0;32m~/anaconda3/envs/spark/lib/python3.10/site-packages/dedupe/api.py:125\u001b[0m, in \u001b[0;36mIntegralMatching.score\u001b[0;34m(self, pairs)\u001b[0m\n\u001b[1;32m    116\u001b[0m \u001b[38;5;250m\u001b[39m\u001b[38;5;124;03m\"\"\"\u001b[39;00m\n\u001b[1;32m    117\u001b[0m \u001b[38;5;124;03mScores pairs of records. Returns pairs of tuples of records id and\u001b[39;00m\n\u001b[1;32m    118\u001b[0m \u001b[38;5;124;03massociated probabilities that the pair of records are match\u001b[39;00m\n\u001b[0;32m   (...)\u001b[0m\n\u001b[1;32m    122\u001b[0m \n\u001b[1;32m    123\u001b[0m \u001b[38;5;124;03m\"\"\"\u001b[39;00m\n\u001b[1;32m    124\u001b[0m \u001b[38;5;28;01mtry\u001b[39;00m:\n\u001b[0;32m--> 125\u001b[0m     matches \u001b[38;5;241m=\u001b[39m \u001b[43mcore\u001b[49m\u001b[38;5;241;43m.\u001b[39;49m\u001b[43mscoreDuplicates\u001b[49m\u001b[43m(\u001b[49m\n\u001b[1;32m    126\u001b[0m \u001b[43m        \u001b[49m\u001b[43mpairs\u001b[49m\u001b[43m,\u001b[49m\u001b[43m \u001b[49m\u001b[38;5;28;43mself\u001b[39;49m\u001b[38;5;241;43m.\u001b[39;49m\u001b[43mdata_model\u001b[49m\u001b[38;5;241;43m.\u001b[39;49m\u001b[43mdistances\u001b[49m\u001b[43m,\u001b[49m\u001b[43m \u001b[49m\u001b[38;5;28;43mself\u001b[39;49m\u001b[38;5;241;43m.\u001b[39;49m\u001b[43mclassifier\u001b[49m\u001b[43m,\u001b[49m\u001b[43m \u001b[49m\u001b[38;5;28;43mself\u001b[39;49m\u001b[38;5;241;43m.\u001b[39;49m\u001b[43mnum_cores\u001b[49m\n\u001b[1;32m    127\u001b[0m \u001b[43m    \u001b[49m\u001b[43m)\u001b[49m\n\u001b[1;32m    128\u001b[0m \u001b[38;5;28;01mexcept\u001b[39;00m \u001b[38;5;167;01mRuntimeError\u001b[39;00m:\n\u001b[1;32m    129\u001b[0m     \u001b[38;5;28;01mraise\u001b[39;00m \u001b[38;5;167;01mRuntimeError\u001b[39;00m(\n\u001b[1;32m    130\u001b[0m \u001b[38;5;250m        \u001b[39m\u001b[38;5;124;03m\"\"\"\u001b[39;00m\n\u001b[1;32m    131\u001b[0m \u001b[38;5;124;03m        You need to either turn off multiprocessing or protect\u001b[39;00m\n\u001b[0;32m   (...)\u001b[0m\n\u001b[1;32m    134\u001b[0m \u001b[38;5;124;03m        https://docs.python.org/3/library/multiprocessing.html#the-spawn-and-forkserver-start-methods\"\"\"\u001b[39;00m\n\u001b[1;32m    135\u001b[0m     )\n",
      "File \u001b[0;32m~/anaconda3/envs/spark/lib/python3.10/site-packages/dedupe/core.py:160\u001b[0m, in \u001b[0;36mscoreDuplicates\u001b[0;34m(record_pairs, featurizer, classifier, num_cores)\u001b[0m\n\u001b[1;32m    157\u001b[0m \u001b[38;5;28;01mfor\u001b[39;00m process \u001b[38;5;129;01min\u001b[39;00m map_processes:\n\u001b[1;32m    158\u001b[0m     process\u001b[38;5;241m.\u001b[39mstart()\n\u001b[0;32m--> 160\u001b[0m \u001b[43mfillQueue\u001b[49m\u001b[43m(\u001b[49m\u001b[43mrecord_pairs_queue\u001b[49m\u001b[43m,\u001b[49m\u001b[43m \u001b[49m\u001b[43mrecord_pairs\u001b[49m\u001b[43m,\u001b[49m\u001b[43m \u001b[49m\u001b[43mn_map_processes\u001b[49m\u001b[43m)\u001b[49m\n\u001b[1;32m    162\u001b[0m \u001b[38;5;28;01mfor\u001b[39;00m process \u001b[38;5;129;01min\u001b[39;00m map_processes:\n\u001b[1;32m    163\u001b[0m     process\u001b[38;5;241m.\u001b[39mjoin()\n",
      "File \u001b[0;32m~/anaconda3/envs/spark/lib/python3.10/site-packages/dedupe/core.py:197\u001b[0m, in \u001b[0;36mfillQueue\u001b[0;34m(queue, iterable, stop_signals, chunk_size)\u001b[0m\n\u001b[1;32m    193\u001b[0m \u001b[38;5;28;01melse\u001b[39;00m:\n\u001b[1;32m    194\u001b[0m     \u001b[38;5;66;03m# put poison pills in queue to tell scorers that they are\u001b[39;00m\n\u001b[1;32m    195\u001b[0m     \u001b[38;5;66;03m# done\u001b[39;00m\n\u001b[1;32m    196\u001b[0m     \u001b[38;5;28;01mfor\u001b[39;00m _ \u001b[38;5;129;01min\u001b[39;00m \u001b[38;5;28mrange\u001b[39m(stop_signals):\n\u001b[0;32m--> 197\u001b[0m         \u001b[43mqueue\u001b[49m\u001b[38;5;241;43m.\u001b[39;49m\u001b[43mput\u001b[49m\u001b[43m(\u001b[49m\u001b[38;5;28;43;01mNone\u001b[39;49;00m\u001b[43m)\u001b[49m\n\u001b[1;32m    198\u001b[0m     \u001b[38;5;28;01mbreak\u001b[39;00m\n",
      "File \u001b[0;32m~/anaconda3/envs/spark/lib/python3.10/multiprocessing/queues.py:89\u001b[0m, in \u001b[0;36mQueue.put\u001b[0;34m(self, obj, block, timeout)\u001b[0m\n\u001b[1;32m     87\u001b[0m \u001b[38;5;28;01mif\u001b[39;00m \u001b[38;5;28mself\u001b[39m\u001b[38;5;241m.\u001b[39m_closed:\n\u001b[1;32m     88\u001b[0m     \u001b[38;5;28;01mraise\u001b[39;00m \u001b[38;5;167;01mValueError\u001b[39;00m(\u001b[38;5;124mf\u001b[39m\u001b[38;5;124m\"\u001b[39m\u001b[38;5;124mQueue \u001b[39m\u001b[38;5;132;01m{\u001b[39;00m\u001b[38;5;28mself\u001b[39m\u001b[38;5;132;01m!r}\u001b[39;00m\u001b[38;5;124m is closed\u001b[39m\u001b[38;5;124m\"\u001b[39m)\n\u001b[0;32m---> 89\u001b[0m \u001b[38;5;28;01mif\u001b[39;00m \u001b[38;5;129;01mnot\u001b[39;00m \u001b[38;5;28;43mself\u001b[39;49m\u001b[38;5;241;43m.\u001b[39;49m\u001b[43m_sem\u001b[49m\u001b[38;5;241;43m.\u001b[39;49m\u001b[43macquire\u001b[49m\u001b[43m(\u001b[49m\u001b[43mblock\u001b[49m\u001b[43m,\u001b[49m\u001b[43m \u001b[49m\u001b[43mtimeout\u001b[49m\u001b[43m)\u001b[49m:\n\u001b[1;32m     90\u001b[0m     \u001b[38;5;28;01mraise\u001b[39;00m Full\n\u001b[1;32m     92\u001b[0m \u001b[38;5;28;01mwith\u001b[39;00m \u001b[38;5;28mself\u001b[39m\u001b[38;5;241m.\u001b[39m_notempty:\n",
      "\u001b[0;31mKeyboardInterrupt\u001b[0m: "
     ]
    }
   ],
   "source": [
    "if os.path.exists(settings_file):\n",
    "    print('reading from', settings_file)\n",
    "    with open(settings_file, 'rb') as sf:\n",
    "        linker = dedupe.StaticRecordLink(sf)\n",
    "else:\n",
    "    fields = [\n",
    "        {'field': 'name', 'type': 'String'},\n",
    "        {'field': 'country', 'type': 'String'}]\n",
    "    linker = dedupe.RecordLink(fields)\n",
    "\n",
    "    if os.path.exists(training_file):\n",
    "        print('reading labeled examples from ', training_file)\n",
    "        with open(training_file) as tf:\n",
    "            linker.prepare_training(data_1,\n",
    "                                    data_2,\n",
    "                                    training_file=tf,\n",
    "                                    sample_size=15000)\n",
    "    else:\n",
    "        linker.prepare_training(data_1, data_2, sample_size=15000)\n",
    "\n",
    "    print('starting active labeling...')\n",
    "\n",
    "    dedupe.console_label(linker)\n",
    "\n",
    "    linker.train()\n",
    "    with open(training_file, 'w') as tf:\n",
    "        linker.write_training(tf)\n",
    "    with open(settings_file, 'wb') as sf:\n",
    "        linker.write_settings(sf)\n",
    "\n",
    "print('clustering...')\n",
    "linked_records = linker.join(data_1, data_2, 1.0) \n",
    "\n",
    "print('# duplicate sets', len(linked_records))\n",
    "\n",
    "cluster_membership = {}\n",
    "for cluster_id, (cluster, score) in enumerate(linked_records):\n",
    "    for record_id in cluster:\n",
    "        cluster_membership[record_id] = {'Cluster ID': cluster_id,\n",
    "                                         'Link Score': score}\n",
    "\n",
    "with open(output_file, 'w') as f:\n",
    "\n",
    "    header_unwritten = True\n",
    "\n",
    "    for fileno, filename in enumerate((left_file, right_file)):\n",
    "        with open(filename) as f_input:\n",
    "            reader = csv.DictReader(f_input)\n",
    "\n",
    "            if header_unwritten:\n",
    "\n",
    "                fieldnames = (['Cluster ID', 'Link Score', 'source file'] +\n",
    "                              reader.fieldnames)\n",
    "\n",
    "                writer = csv.DictWriter(f, fieldnames=fieldnames)\n",
    "                writer.writeheader()\n",
    "\n",
    "                header_unwritten = False\n",
    "\n",
    "            for row_id, row in enumerate(reader):\n",
    "\n",
    "                record_id = filename + str(row_id)\n",
    "                cluster_details = cluster_membership.get(record_id, {})\n",
    "                row['source file'] = fileno\n",
    "                row.update(cluster_details)\n",
    "\n",
    "                writer.writerow(row)"
   ]
  },
  {
   "cell_type": "markdown",
   "id": "cf924978-0223-40a6-8193-aea3e5670c8c",
   "metadata": {},
   "source": [
    "# Analyse Results"
   ]
  },
  {
   "cell_type": "code",
   "execution_count": 12,
   "id": "deef457b-64d7-446b-9bcf-590b1f485427",
   "metadata": {
    "scrolled": true
   },
   "outputs": [],
   "source": [
    "prec = pd.read_csv(\"/home/colombo/BusinessRegistryTool/Competitors/DedupeExp/precision/data_matching_output.csv\",low_memory=False)\n",
    "prec = prec.dropna(subset=['Cluster ID'])\n",
    "pairs = prec.groupby('Cluster ID').count()\n",
    "pairs = pairs[pairs['Link Score']>1].reset_index()['Cluster ID']"
   ]
  },
  {
   "cell_type": "code",
   "execution_count": 17,
   "id": "65ed2d09-3982-4305-afe2-64283b97c0f6",
   "metadata": {},
   "outputs": [],
   "source": [
    "lei = []\n",
    "LEI = []\n",
    "code = []\n",
    "for i in pairs:\n",
    "    code.append(prec[prec['Cluster ID'] == i].iloc[0]['code'])\n",
    "    lei.append(prec[prec['Cluster ID'] == i].iloc[0]['lei'])\n",
    "    LEI.append(prec[prec['Cluster ID'] == i].iloc[1]['LEI'])"
   ]
  },
  {
   "cell_type": "code",
   "execution_count": 18,
   "id": "67251858-811a-4e2e-b454-b65d1b616d0c",
   "metadata": {},
   "outputs": [],
   "source": [
    "gg = pd.DataFrame({'lei':lei,'LEI':LEI,'code':code})"
   ]
  },
  {
   "cell_type": "code",
   "execution_count": 60,
   "id": "afd82cb1-a708-4d4a-8483-92ad9aa33a20",
   "metadata": {},
   "outputs": [],
   "source": [
    "# gg.to_excel('/home/colombo/BusinessRegistryTool/Data/results/MFI_GLEIF_DEDUPE.xlsx')"
   ]
  },
  {
   "cell_type": "code",
   "execution_count": null,
   "id": "11bffa75-e82d-4f2a-aed1-e491df3ac72d",
   "metadata": {},
   "outputs": [],
   "source": [
    "BR_MFI = pd.read_csv(\"/home/colombo/BusinessRegistryTool/Data/mfi/mfi.csv\")\n",
    "BR_GLEIF = pd.read_csv(\"/home/colombo/BusinessRegistryTool/Data/gleif/gleif.csv\",low_memory=False)\n",
    "data1 = BR_MFI[['code','lei','address','name']]\n",
    "data1 = data1.drop_duplicates().dropna()\n",
    "data2 = BR_GLEIF[BR_GLEIF['Entity.EntityStatus'] == 'ACTIVE'][['LEI','Entity.LegalAddress.FirstAddressLine','Entity.LegalName']]\n",
    "data2 = data2.drop_duplicates().dropna()"
   ]
  },
  {
   "cell_type": "code",
   "execution_count": null,
   "id": "40e082a5-4200-47b6-9233-54bd7a051909",
   "metadata": {},
   "outputs": [],
   "source": [
    "matTrue = pd.merge(data1,data2, how= 'inner', left_on ='lei', right_on = 'LEI')\n",
    "n = len(matTrue['code'].drop_duplicates())"
   ]
  },
  {
   "cell_type": "code",
   "execution_count": 59,
   "id": "38e31aca-b6e6-4f9e-b8d9-690a4b794822",
   "metadata": {},
   "outputs": [
    {
     "name": "stdout",
     "output_type": "stream",
     "text": [
      "Dedupe Results\n",
      "Size of mapping table: 69833\n",
      "Size of inner matches: 40443 -> 66.4%\n",
      "Additional matches (new links discovered): 18877\n",
      "Incorrect matches: 10525 -> Precision = 78.9%\n",
      "F1-Score: 0.7213012422083307\n"
     ]
    }
   ],
   "source": [
    "print('Dedupe Results')\n",
    "print('Size of mapping table: '+ str(len(gg)))\n",
    "df1_p = pd.merge(gg,matTrue, how = 'inner', on ='code')\n",
    "df1_add = pd.merge(gg,matTrue, how = 'left', on ='code')\n",
    "truepositive = pd.merge(gg[['LEI','code']].drop_duplicates(),matTrue[['code','LEI']].drop_duplicates(), how = 'inner',on = ['code','LEI']).drop_duplicates()\n",
    "outer_join = pd.merge(df1_add[['code']].drop_duplicates(),matTrue[['code']].drop_duplicates(), how = 'outer', indicator = True)\n",
    "recall = len(truepositive)/n\n",
    "print('Size of inner matches: '+ str(len(truepositive)) + ' -> ' + str(round(recall*100,1))+'%')\n",
    "print('Additional matches (new links discovered): '+ str(len(outer_join[outer_join['_merge'] == 'left_only'])))\n",
    "precision = len(truepositive)/len(df1_p)\n",
    "print('Incorrect matches: '+str(len(df1_p[df1_p['LEI_x'] != df1_p['LEI_y']]))+ ' -> Precision = ' + str(round(precision*100,1))+'%')\n",
    "print('F1-Score: ' + str(2*((precision)*recall)/((precision)+recall)))"
   ]
  },
  {
   "cell_type": "code",
   "execution_count": 22,
   "id": "64ab65ee-7416-426e-bcee-3155bc023f9c",
   "metadata": {},
   "outputs": [
    {
     "name": "stdout",
     "output_type": "stream",
     "text": [
      "Dedupe Results\n",
      "Size of mapping table: 82259\n",
      "Size of inner matches: 40383 -> 66.3%\n",
      "Additional matches (new links discovered): 24275\n",
      "Incorrect matches: 17697 -> Precision = 69.2%\n",
      "F1-Score: 0.6774079914114135\n"
     ]
    }
   ],
   "source": [
    "print('Dedupe Results')\n",
    "print('Size of mapping table: '+ str(len(gg)))\n",
    "df1_p = pd.merge(gg,matTrue, how = 'inner', on ='code')\n",
    "df1_add = pd.merge(gg,matTrue, how = 'left', on ='code')\n",
    "truepositive = pd.merge(gg[['LEI','code']].drop_duplicates(),matTrue[['code','LEI']].drop_duplicates(), how = 'inner',on = ['code','LEI']).drop_duplicates()\n",
    "outer_join = pd.merge(df1_add[['code']].drop_duplicates(),matTrue[['code']].drop_duplicates(), how = 'outer', indicator = True)\n",
    "recall = len(truepositive)/n\n",
    "print('Size of inner matches: '+ str(len(truepositive)) + ' -> ' + str(round(recall*100,1))+'%')\n",
    "print('Additional matches (new links discovered): '+ str(len(outer_join[outer_join['_merge'] == 'left_only'])))\n",
    "precision = len(truepositive)/len(df1_p)\n",
    "print('Incorrect matches: '+str(len(df1_p[df1_p['LEI_x'] != df1_p['LEI_y']]))+ ' -> Precision = ' + str(round(precision*100,1))+'%')\n",
    "print('F1-Score: ' + str(2*((precision)*recall)/((precision)+recall)))"
   ]
  },
  {
   "cell_type": "code",
   "execution_count": null,
   "id": "39db2ab9-78f2-4f40-877a-c9fdb146f282",
   "metadata": {},
   "outputs": [],
   "source": []
  },
  {
   "cell_type": "code",
   "execution_count": 125,
   "id": "34f98f3e-cc77-4d01-b871-184c1ad42e20",
   "metadata": {},
   "outputs": [],
   "source": [
    "k2 = pd.merge(k,data1, how = 'inner', on = 'lei')"
   ]
  },
  {
   "cell_type": "code",
   "execution_count": 127,
   "id": "bba0fd67-0eab-4044-a5e5-0441ee88cf73",
   "metadata": {},
   "outputs": [],
   "source": [
    "k = pd.merge(k2,data2, how = 'inner', on = 'LEI')"
   ]
  },
  {
   "cell_type": "code",
   "execution_count": 128,
   "id": "1ce6a9af-515a-4e33-8a20-c26e0c35c0d0",
   "metadata": {},
   "outputs": [
    {
     "data": {
      "text/plain": [
       "7495"
      ]
     },
     "execution_count": 128,
     "metadata": {},
     "output_type": "execute_result"
    }
   ],
   "source": [
    "sum(k['lei'] != k['LEI'])"
   ]
  },
  {
   "cell_type": "code",
   "execution_count": 134,
   "id": "5443e91c-6c60-40b5-b936-06adc2ba3b01",
   "metadata": {},
   "outputs": [
    {
     "data": {
      "text/plain": [
       "47243"
      ]
     },
     "execution_count": 134,
     "metadata": {},
     "output_type": "execute_result"
    }
   ],
   "source": [
    "len(k)"
   ]
  },
  {
   "cell_type": "code",
   "execution_count": 132,
   "id": "d26d7d9f-8d29-406d-a010-dd04f01174a9",
   "metadata": {},
   "outputs": [
    {
     "data": {
      "text/html": [
       "<div>\n",
       "<style scoped>\n",
       "    .dataframe tbody tr th:only-of-type {\n",
       "        vertical-align: middle;\n",
       "    }\n",
       "\n",
       "    .dataframe tbody tr th {\n",
       "        vertical-align: top;\n",
       "    }\n",
       "\n",
       "    .dataframe thead th {\n",
       "        text-align: right;\n",
       "    }\n",
       "</style>\n",
       "<table border=\"1\" class=\"dataframe\">\n",
       "  <thead>\n",
       "    <tr style=\"text-align: right;\">\n",
       "      <th></th>\n",
       "      <th>lei</th>\n",
       "      <th>LEI</th>\n",
       "      <th>name1</th>\n",
       "      <th>name2</th>\n",
       "      <th>Entity.LegalAddress.FirstAddressLine_x</th>\n",
       "      <th>Entity.LegalName_x</th>\n",
       "      <th>code</th>\n",
       "      <th>address</th>\n",
       "      <th>name</th>\n",
       "      <th>Entity.LegalAddress.FirstAddressLine_y</th>\n",
       "      <th>Entity.LegalName_y</th>\n",
       "    </tr>\n",
       "  </thead>\n",
       "  <tbody>\n",
       "    <tr>\n",
       "      <th>0</th>\n",
       "      <td>959800AKN7AMRT0WTG43</td>\n",
       "      <td>959800AKN7AMRT0WTG43</td>\n",
       "      <td>FONDLORETO EMPLEO, FONDO DE PENSIONES</td>\n",
       "      <td>FONDLORETO EMPLEO, FONDO DE PENSIONES</td>\n",
       "      <td>Paseo De La Castellana 40</td>\n",
       "      <td>FONDLORETO EMPLEO FONDO DE PENSIONES</td>\n",
       "      <td>ESV82838533</td>\n",
       "      <td>Paseo de la Castellana, 40</td>\n",
       "      <td>FONDLORETO EMPLEO, FONDO DE PENSIONES</td>\n",
       "      <td>Paseo De La Castellana 40</td>\n",
       "      <td>FONDLORETO EMPLEO FONDO DE PENSIONES</td>\n",
       "    </tr>\n",
       "    <tr>\n",
       "      <th>1</th>\n",
       "      <td>95980020140005358942</td>\n",
       "      <td>95980020140005358942</td>\n",
       "      <td>FONDOMEGA, FONDO DE PENSIONES</td>\n",
       "      <td>FONDOMEGA, FONDO DE PENSIONES</td>\n",
       "      <td>PASEO DE LA CASTELLANA 189</td>\n",
       "      <td>FONDOMEGA, FONDO DE PENSIONES</td>\n",
       "      <td>ESV82498270</td>\n",
       "      <td>PASEO DE LA CASTELLANA, 189</td>\n",
       "      <td>FONDOMEGA, FONDO DE PENSIONES</td>\n",
       "      <td>PASEO DE LA CASTELLANA 189</td>\n",
       "      <td>FONDOMEGA, FONDO DE PENSIONES</td>\n",
       "    </tr>\n",
       "    <tr>\n",
       "      <th>2</th>\n",
       "      <td>549300MUNXT61CPKOS18</td>\n",
       "      <td>549300MUNXT61CPKOS18</td>\n",
       "      <td>ASG Merkel I S.à r.l.</td>\n",
       "      <td>ASG Merkel I S.à r.l.</td>\n",
       "      <td>35a, avenue J.F. Kennedy</td>\n",
       "      <td>ASG Merkel I S.à r.l.</td>\n",
       "      <td>LURCSB0243812</td>\n",
       "      <td>35a, avenue J.F. Kennedy</td>\n",
       "      <td>ASG Merkel I S.à r.l.</td>\n",
       "      <td>35a, avenue J.F. Kennedy</td>\n",
       "      <td>ASG Merkel I S.à r.l.</td>\n",
       "    </tr>\n",
       "    <tr>\n",
       "      <th>3</th>\n",
       "      <td>213800DMFTNKD1XP6V16</td>\n",
       "      <td>213800DMFTNKD1XP6V16</td>\n",
       "      <td>AXA IM InMotion RCF S.à r.l.</td>\n",
       "      <td>AXA IM InMotion RCF S.à r.l.</td>\n",
       "      <td>2-4, RUE EUGÈNE RUPPERT</td>\n",
       "      <td>AXA IM INMOTION RCF S.À R.L.</td>\n",
       "      <td>LURCSB0243669</td>\n",
       "      <td>2-4, rue Eugène Ruppert</td>\n",
       "      <td>AXA IM InMotion RCF S.à r.l.</td>\n",
       "      <td>2-4, RUE EUGÈNE RUPPERT</td>\n",
       "      <td>AXA IM INMOTION RCF S.À R.L.</td>\n",
       "    </tr>\n",
       "    <tr>\n",
       "      <th>4</th>\n",
       "      <td>52990093GF8L3K83HU38</td>\n",
       "      <td>52990093GF8L3K83HU38</td>\n",
       "      <td>Volksbank Braunlage e.G.</td>\n",
       "      <td>Volksbank Braunlage e.G.</td>\n",
       "      <td>Herzog-Wilhelm-Straße 19</td>\n",
       "      <td>Volksbank Braunlage e.G.</td>\n",
       "      <td>DE01499</td>\n",
       "      <td>Herzog-Wilhelm-Straße 19</td>\n",
       "      <td>Volksbank Braunlage e.G.</td>\n",
       "      <td>Herzog-Wilhelm-Straße 19</td>\n",
       "      <td>Volksbank Braunlage e.G.</td>\n",
       "    </tr>\n",
       "    <tr>\n",
       "      <th>...</th>\n",
       "      <td>...</td>\n",
       "      <td>...</td>\n",
       "      <td>...</td>\n",
       "      <td>...</td>\n",
       "      <td>...</td>\n",
       "      <td>...</td>\n",
       "      <td>...</td>\n",
       "      <td>...</td>\n",
       "      <td>...</td>\n",
       "      <td>...</td>\n",
       "      <td>...</td>\n",
       "    </tr>\n",
       "    <tr>\n",
       "      <th>47238</th>\n",
       "      <td>549300GIUUQLJYFN4I12</td>\n",
       "      <td>549300K11J6OGTBDEE09</td>\n",
       "      <td>BLACKROCK GLOBAL FUNDS - SUSTAINABLE WORLD BON...</td>\n",
       "      <td>BLACKROCK GLOBAL FUNDS - SUSTAINABLE WORLD BON...</td>\n",
       "      <td>100 Bellevue Parkway</td>\n",
       "      <td>BlackRock Global Allocation Variable Series V....</td>\n",
       "      <td>LUO000003C00081</td>\n",
       "      <td>2-4, rue Eugène Ruppert</td>\n",
       "      <td>BLACKROCK GLOBAL FUNDS - SUSTAINABLE WORLD BON...</td>\n",
       "      <td>100 Bellevue Parkway</td>\n",
       "      <td>BlackRock Global Allocation Variable Series V....</td>\n",
       "    </tr>\n",
       "    <tr>\n",
       "      <th>47239</th>\n",
       "      <td>549300ZIDTW9IQG08Q84</td>\n",
       "      <td>MODQGKIZ8C8UYQFQPL52</td>\n",
       "      <td>A&amp;G GLOBAL II SICAV - SIF - ARTEMIS FUND</td>\n",
       "      <td>A&amp;G GLOBAL II SICAV - SIF - ARTEMIS FUND</td>\n",
       "      <td>C/O The Corporation Trust Company</td>\n",
       "      <td>AG Global Debt Strategy Partners, L.P.</td>\n",
       "      <td>LUO008913C00006</td>\n",
       "      <td>56, Grand-rue</td>\n",
       "      <td>A&amp;G GLOBAL II SICAV - SIF - ARTEMIS FUND</td>\n",
       "      <td>C/O The Corporation Trust Company</td>\n",
       "      <td>AG Global Debt Strategy Partners, L.P.</td>\n",
       "    </tr>\n",
       "    <tr>\n",
       "      <th>47240</th>\n",
       "      <td>22210014L5NNUVXN5250</td>\n",
       "      <td>213800ZTGT6NCC74OF36</td>\n",
       "      <td>THE FUND SICAV SIF S.A. - RESILIANCE FUND</td>\n",
       "      <td>THE FUND SICAV SIF S.A. - RESILIANCE FUND</td>\n",
       "      <td>C/O RYSAFFE TRUSTEE COMPANY (C.I.) LIMITED</td>\n",
       "      <td>THE FUND OF FAMILY HAPPINESS TRUST</td>\n",
       "      <td>LUO008269C00008</td>\n",
       "      <td>49, boulevard Prince Henri</td>\n",
       "      <td>THE FUND SICAV SIF S.A. - RESILIANCE FUND</td>\n",
       "      <td>C/O RYSAFFE TRUSTEE COMPANY (C.I.) LIMITED</td>\n",
       "      <td>THE FUND OF FAMILY HAPPINESS TRUST</td>\n",
       "    </tr>\n",
       "    <tr>\n",
       "      <th>47241</th>\n",
       "      <td>213800LINXZ2GGCA7L71</td>\n",
       "      <td>213800EO6GQHD4AIED29</td>\n",
       "      <td>HSBC GLOBAL INVESTMENT FUNDS - GLOBAL EMERGING...</td>\n",
       "      <td>HSBC GLOBAL INVESTMENT FUNDS - GLOBAL EMERGING...</td>\n",
       "      <td>GARTENSTRASSE 26</td>\n",
       "      <td>HSBC GLOBAL ASSET MANAGEMENT (SWITZERLAND) AG</td>\n",
       "      <td>LUO000256C00029</td>\n",
       "      <td>4, rue Peternelchen</td>\n",
       "      <td>HSBC GLOBAL INVESTMENT FUNDS - GLOBAL EMERGING...</td>\n",
       "      <td>GARTENSTRASSE 26</td>\n",
       "      <td>HSBC GLOBAL ASSET MANAGEMENT (SWITZERLAND) AG</td>\n",
       "    </tr>\n",
       "    <tr>\n",
       "      <th>47242</th>\n",
       "      <td>549300CS4LDRGQN2CA27</td>\n",
       "      <td>984500E984CK7A995V76</td>\n",
       "      <td>ROTHSCHILD &amp; CO WM SICAV SIF - CHESTNUT FUND GBP</td>\n",
       "      <td>ROTHSCHILD &amp; CO WM SICAV SIF - CHESTNUT FUND GBP</td>\n",
       "      <td>251 LITTLE FALLS DRIVE</td>\n",
       "      <td>ROTHSCHILD &amp; CO EMERGING MARKETS EQUITY FUND LLC</td>\n",
       "      <td>LUO007761C00025</td>\n",
       "      <td>10, rue du Château d'Eau</td>\n",
       "      <td>ROTHSCHILD &amp; CO WM SICAV SIF - CHESTNUT FUND GBP</td>\n",
       "      <td>251 LITTLE FALLS DRIVE</td>\n",
       "      <td>ROTHSCHILD &amp; CO EMERGING MARKETS EQUITY FUND LLC</td>\n",
       "    </tr>\n",
       "  </tbody>\n",
       "</table>\n",
       "<p>47243 rows × 11 columns</p>\n",
       "</div>"
      ],
      "text/plain": [
       "                        lei                   LEI  \\\n",
       "0      959800AKN7AMRT0WTG43  959800AKN7AMRT0WTG43   \n",
       "1      95980020140005358942  95980020140005358942   \n",
       "2      549300MUNXT61CPKOS18  549300MUNXT61CPKOS18   \n",
       "3      213800DMFTNKD1XP6V16  213800DMFTNKD1XP6V16   \n",
       "4      52990093GF8L3K83HU38  52990093GF8L3K83HU38   \n",
       "...                     ...                   ...   \n",
       "47238  549300GIUUQLJYFN4I12  549300K11J6OGTBDEE09   \n",
       "47239  549300ZIDTW9IQG08Q84  MODQGKIZ8C8UYQFQPL52   \n",
       "47240  22210014L5NNUVXN5250  213800ZTGT6NCC74OF36   \n",
       "47241  213800LINXZ2GGCA7L71  213800EO6GQHD4AIED29   \n",
       "47242  549300CS4LDRGQN2CA27  984500E984CK7A995V76   \n",
       "\n",
       "                                                   name1  \\\n",
       "0                  FONDLORETO EMPLEO, FONDO DE PENSIONES   \n",
       "1                          FONDOMEGA, FONDO DE PENSIONES   \n",
       "2                                  ASG Merkel I S.à r.l.   \n",
       "3                           AXA IM InMotion RCF S.à r.l.   \n",
       "4                               Volksbank Braunlage e.G.   \n",
       "...                                                  ...   \n",
       "47238  BLACKROCK GLOBAL FUNDS - SUSTAINABLE WORLD BON...   \n",
       "47239           A&G GLOBAL II SICAV - SIF - ARTEMIS FUND   \n",
       "47240          THE FUND SICAV SIF S.A. - RESILIANCE FUND   \n",
       "47241  HSBC GLOBAL INVESTMENT FUNDS - GLOBAL EMERGING...   \n",
       "47242   ROTHSCHILD & CO WM SICAV SIF - CHESTNUT FUND GBP   \n",
       "\n",
       "                                                   name2  \\\n",
       "0                  FONDLORETO EMPLEO, FONDO DE PENSIONES   \n",
       "1                          FONDOMEGA, FONDO DE PENSIONES   \n",
       "2                                  ASG Merkel I S.à r.l.   \n",
       "3                           AXA IM InMotion RCF S.à r.l.   \n",
       "4                               Volksbank Braunlage e.G.   \n",
       "...                                                  ...   \n",
       "47238  BLACKROCK GLOBAL FUNDS - SUSTAINABLE WORLD BON...   \n",
       "47239           A&G GLOBAL II SICAV - SIF - ARTEMIS FUND   \n",
       "47240          THE FUND SICAV SIF S.A. - RESILIANCE FUND   \n",
       "47241  HSBC GLOBAL INVESTMENT FUNDS - GLOBAL EMERGING...   \n",
       "47242   ROTHSCHILD & CO WM SICAV SIF - CHESTNUT FUND GBP   \n",
       "\n",
       "           Entity.LegalAddress.FirstAddressLine_x  \\\n",
       "0                       Paseo De La Castellana 40   \n",
       "1                      PASEO DE LA CASTELLANA 189   \n",
       "2                        35a, avenue J.F. Kennedy   \n",
       "3                         2-4, RUE EUGÈNE RUPPERT   \n",
       "4                        Herzog-Wilhelm-Straße 19   \n",
       "...                                           ...   \n",
       "47238                        100 Bellevue Parkway   \n",
       "47239           C/O The Corporation Trust Company   \n",
       "47240  C/O RYSAFFE TRUSTEE COMPANY (C.I.) LIMITED   \n",
       "47241                            GARTENSTRASSE 26   \n",
       "47242                      251 LITTLE FALLS DRIVE   \n",
       "\n",
       "                                      Entity.LegalName_x             code  \\\n",
       "0                   FONDLORETO EMPLEO FONDO DE PENSIONES      ESV82838533   \n",
       "1                          FONDOMEGA, FONDO DE PENSIONES      ESV82498270   \n",
       "2                                  ASG Merkel I S.à r.l.    LURCSB0243812   \n",
       "3                           AXA IM INMOTION RCF S.À R.L.    LURCSB0243669   \n",
       "4                               Volksbank Braunlage e.G.          DE01499   \n",
       "...                                                  ...              ...   \n",
       "47238  BlackRock Global Allocation Variable Series V....  LUO000003C00081   \n",
       "47239             AG Global Debt Strategy Partners, L.P.  LUO008913C00006   \n",
       "47240                 THE FUND OF FAMILY HAPPINESS TRUST  LUO008269C00008   \n",
       "47241      HSBC GLOBAL ASSET MANAGEMENT (SWITZERLAND) AG  LUO000256C00029   \n",
       "47242   ROTHSCHILD & CO EMERGING MARKETS EQUITY FUND LLC  LUO007761C00025   \n",
       "\n",
       "                           address  \\\n",
       "0       Paseo de la Castellana, 40   \n",
       "1      PASEO DE LA CASTELLANA, 189   \n",
       "2         35a, avenue J.F. Kennedy   \n",
       "3          2-4, rue Eugène Ruppert   \n",
       "4         Herzog-Wilhelm-Straße 19   \n",
       "...                            ...   \n",
       "47238      2-4, rue Eugène Ruppert   \n",
       "47239                56, Grand-rue   \n",
       "47240   49, boulevard Prince Henri   \n",
       "47241          4, rue Peternelchen   \n",
       "47242     10, rue du Château d'Eau   \n",
       "\n",
       "                                                    name  \\\n",
       "0                  FONDLORETO EMPLEO, FONDO DE PENSIONES   \n",
       "1                          FONDOMEGA, FONDO DE PENSIONES   \n",
       "2                                  ASG Merkel I S.à r.l.   \n",
       "3                           AXA IM InMotion RCF S.à r.l.   \n",
       "4                               Volksbank Braunlage e.G.   \n",
       "...                                                  ...   \n",
       "47238  BLACKROCK GLOBAL FUNDS - SUSTAINABLE WORLD BON...   \n",
       "47239           A&G GLOBAL II SICAV - SIF - ARTEMIS FUND   \n",
       "47240          THE FUND SICAV SIF S.A. - RESILIANCE FUND   \n",
       "47241  HSBC GLOBAL INVESTMENT FUNDS - GLOBAL EMERGING...   \n",
       "47242   ROTHSCHILD & CO WM SICAV SIF - CHESTNUT FUND GBP   \n",
       "\n",
       "           Entity.LegalAddress.FirstAddressLine_y  \\\n",
       "0                       Paseo De La Castellana 40   \n",
       "1                      PASEO DE LA CASTELLANA 189   \n",
       "2                        35a, avenue J.F. Kennedy   \n",
       "3                         2-4, RUE EUGÈNE RUPPERT   \n",
       "4                        Herzog-Wilhelm-Straße 19   \n",
       "...                                           ...   \n",
       "47238                        100 Bellevue Parkway   \n",
       "47239           C/O The Corporation Trust Company   \n",
       "47240  C/O RYSAFFE TRUSTEE COMPANY (C.I.) LIMITED   \n",
       "47241                            GARTENSTRASSE 26   \n",
       "47242                      251 LITTLE FALLS DRIVE   \n",
       "\n",
       "                                      Entity.LegalName_y  \n",
       "0                   FONDLORETO EMPLEO FONDO DE PENSIONES  \n",
       "1                          FONDOMEGA, FONDO DE PENSIONES  \n",
       "2                                  ASG Merkel I S.à r.l.  \n",
       "3                           AXA IM INMOTION RCF S.À R.L.  \n",
       "4                               Volksbank Braunlage e.G.  \n",
       "...                                                  ...  \n",
       "47238  BlackRock Global Allocation Variable Series V....  \n",
       "47239             AG Global Debt Strategy Partners, L.P.  \n",
       "47240                 THE FUND OF FAMILY HAPPINESS TRUST  \n",
       "47241      HSBC GLOBAL ASSET MANAGEMENT (SWITZERLAND) AG  \n",
       "47242   ROTHSCHILD & CO EMERGING MARKETS EQUITY FUND LLC  \n",
       "\n",
       "[47243 rows x 11 columns]"
      ]
     },
     "execution_count": 132,
     "metadata": {},
     "output_type": "execute_result"
    }
   ],
   "source": [
    "k"
   ]
  }
 ],
 "metadata": {
  "kernelspec": {
   "display_name": "Python [conda env:spark] *",
   "language": "python",
   "name": "conda-env-spark-py"
  },
  "language_info": {
   "codemirror_mode": {
    "name": "ipython",
    "version": 3
   },
   "file_extension": ".py",
   "mimetype": "text/x-python",
   "name": "python",
   "nbconvert_exporter": "python",
   "pygments_lexer": "ipython3",
   "version": "3.10.13"
  }
 },
 "nbformat": 4,
 "nbformat_minor": 5
}
